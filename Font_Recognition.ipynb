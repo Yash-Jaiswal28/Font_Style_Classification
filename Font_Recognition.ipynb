{
  "nbformat": 4,
  "nbformat_minor": 0,
  "metadata": {
    "colab": {
      "provenance": [],
      "gpuType": "T4"
    },
    "kernelspec": {
      "name": "python3",
      "display_name": "Python 3"
    },
    "language_info": {
      "name": "python"
    },
    "accelerator": "GPU"
  },
  "cells": [
    {
      "cell_type": "code",
      "execution_count": null,
      "metadata": {
        "colab": {
          "base_uri": "https://localhost:8080/"
        },
        "id": "Q2o1oJUTMDIC",
        "outputId": "b0123a0e-740b-462c-a049-acaa6910da8a"
      },
      "outputs": [
        {
          "output_type": "stream",
          "name": "stdout",
          "text": [
            "Dataset URL: https://www.kaggle.com/datasets/nikbearbrown/tmnist-alphabet-94-characters\n",
            "License(s): Attribution 3.0 Unported (CC BY 3.0)\n",
            "Downloading tmnist-alphabet-94-characters.zip to /content\n",
            " 98% 83.0M/84.7M [00:05<00:00, 22.1MB/s]\n",
            "100% 84.7M/84.7M [00:05<00:00, 15.7MB/s]\n"
          ]
        }
      ],
      "source": [
        "!kaggle datasets download -d nikbearbrown/tmnist-alphabet-94-characters"
      ]
    },
    {
      "cell_type": "code",
      "source": [
        "import zipfile\n",
        "zip_ref = zipfile.ZipFile('/content/tmnist-alphabet-94-characters.zip', 'r')\n",
        "zip_ref.extractall('/content')\n",
        "zip_ref.close()"
      ],
      "metadata": {
        "id": "thGND88xMI09"
      },
      "execution_count": null,
      "outputs": []
    },
    {
      "cell_type": "code",
      "source": [
        "import pandas as pd\n",
        "import tensorflow as tf\n",
        "\n",
        "# Fetch the dataset directly using TensorFlow\n",
        "df = '/content/94_character_TMNIST.csv'\n",
        "df = pd.read_csv(df)\n",
        "df.head()"
      ],
      "metadata": {
        "colab": {
          "base_uri": "https://localhost:8080/",
          "height": 235
        },
        "id": "rL__gg1hMKND",
        "outputId": "6fc9dae4-d74a-47b3-a3a3-6dd43db8bc0e"
      },
      "execution_count": null,
      "outputs": [
        {
          "output_type": "execute_result",
          "data": {
            "text/plain": [
              "                  names labels    1    2    3    4    5    6    7    8  ...  \\\n",
              "0         Salsa-Regular      6  0.0  0.0  0.0  0.0  0.0  0.0  0.0  0.0  ...   \n",
              "1  MouseMemoirs-Regular      D  0.0  0.0  0.0  0.0  0.0  0.0  0.0  0.0  ...   \n",
              "2     Creepster-Regular      f  0.0  0.0  0.0  0.0  0.0  0.0  0.0  0.0  ...   \n",
              "3     SeoulNamsan-Light      /  0.0  0.0  0.0  0.0  0.0  0.0  0.0  0.0  ...   \n",
              "4  HachiMaruPop-Regular      F  0.0  0.0  0.0  0.0  0.0  0.0  0.0  0.0  ...   \n",
              "\n",
              "   775  776  777  778  779  780  781  782  783  784  \n",
              "0  0.0  0.0  0.0  0.0  0.0  0.0  0.0  0.0  0.0  0.0  \n",
              "1  0.0  0.0  0.0  0.0  0.0  0.0  0.0  0.0  0.0  0.0  \n",
              "2  0.0  0.0  0.0  0.0  0.0  0.0  0.0  0.0  0.0  0.0  \n",
              "3  0.0  0.0  0.0  0.0  0.0  0.0  0.0  0.0  0.0  0.0  \n",
              "4  0.0  0.0  0.0  0.0  0.0  0.0  0.0  0.0  0.0  0.0  \n",
              "\n",
              "[5 rows x 786 columns]"
            ],
            "text/html": [
              "\n",
              "  <div id=\"df-c539012a-57f0-4f6a-86d9-ca5f10bfc2ad\" class=\"colab-df-container\">\n",
              "    <div>\n",
              "<style scoped>\n",
              "    .dataframe tbody tr th:only-of-type {\n",
              "        vertical-align: middle;\n",
              "    }\n",
              "\n",
              "    .dataframe tbody tr th {\n",
              "        vertical-align: top;\n",
              "    }\n",
              "\n",
              "    .dataframe thead th {\n",
              "        text-align: right;\n",
              "    }\n",
              "</style>\n",
              "<table border=\"1\" class=\"dataframe\">\n",
              "  <thead>\n",
              "    <tr style=\"text-align: right;\">\n",
              "      <th></th>\n",
              "      <th>names</th>\n",
              "      <th>labels</th>\n",
              "      <th>1</th>\n",
              "      <th>2</th>\n",
              "      <th>3</th>\n",
              "      <th>4</th>\n",
              "      <th>5</th>\n",
              "      <th>6</th>\n",
              "      <th>7</th>\n",
              "      <th>8</th>\n",
              "      <th>...</th>\n",
              "      <th>775</th>\n",
              "      <th>776</th>\n",
              "      <th>777</th>\n",
              "      <th>778</th>\n",
              "      <th>779</th>\n",
              "      <th>780</th>\n",
              "      <th>781</th>\n",
              "      <th>782</th>\n",
              "      <th>783</th>\n",
              "      <th>784</th>\n",
              "    </tr>\n",
              "  </thead>\n",
              "  <tbody>\n",
              "    <tr>\n",
              "      <th>0</th>\n",
              "      <td>Salsa-Regular</td>\n",
              "      <td>6</td>\n",
              "      <td>0.0</td>\n",
              "      <td>0.0</td>\n",
              "      <td>0.0</td>\n",
              "      <td>0.0</td>\n",
              "      <td>0.0</td>\n",
              "      <td>0.0</td>\n",
              "      <td>0.0</td>\n",
              "      <td>0.0</td>\n",
              "      <td>...</td>\n",
              "      <td>0.0</td>\n",
              "      <td>0.0</td>\n",
              "      <td>0.0</td>\n",
              "      <td>0.0</td>\n",
              "      <td>0.0</td>\n",
              "      <td>0.0</td>\n",
              "      <td>0.0</td>\n",
              "      <td>0.0</td>\n",
              "      <td>0.0</td>\n",
              "      <td>0.0</td>\n",
              "    </tr>\n",
              "    <tr>\n",
              "      <th>1</th>\n",
              "      <td>MouseMemoirs-Regular</td>\n",
              "      <td>D</td>\n",
              "      <td>0.0</td>\n",
              "      <td>0.0</td>\n",
              "      <td>0.0</td>\n",
              "      <td>0.0</td>\n",
              "      <td>0.0</td>\n",
              "      <td>0.0</td>\n",
              "      <td>0.0</td>\n",
              "      <td>0.0</td>\n",
              "      <td>...</td>\n",
              "      <td>0.0</td>\n",
              "      <td>0.0</td>\n",
              "      <td>0.0</td>\n",
              "      <td>0.0</td>\n",
              "      <td>0.0</td>\n",
              "      <td>0.0</td>\n",
              "      <td>0.0</td>\n",
              "      <td>0.0</td>\n",
              "      <td>0.0</td>\n",
              "      <td>0.0</td>\n",
              "    </tr>\n",
              "    <tr>\n",
              "      <th>2</th>\n",
              "      <td>Creepster-Regular</td>\n",
              "      <td>f</td>\n",
              "      <td>0.0</td>\n",
              "      <td>0.0</td>\n",
              "      <td>0.0</td>\n",
              "      <td>0.0</td>\n",
              "      <td>0.0</td>\n",
              "      <td>0.0</td>\n",
              "      <td>0.0</td>\n",
              "      <td>0.0</td>\n",
              "      <td>...</td>\n",
              "      <td>0.0</td>\n",
              "      <td>0.0</td>\n",
              "      <td>0.0</td>\n",
              "      <td>0.0</td>\n",
              "      <td>0.0</td>\n",
              "      <td>0.0</td>\n",
              "      <td>0.0</td>\n",
              "      <td>0.0</td>\n",
              "      <td>0.0</td>\n",
              "      <td>0.0</td>\n",
              "    </tr>\n",
              "    <tr>\n",
              "      <th>3</th>\n",
              "      <td>SeoulNamsan-Light</td>\n",
              "      <td>/</td>\n",
              "      <td>0.0</td>\n",
              "      <td>0.0</td>\n",
              "      <td>0.0</td>\n",
              "      <td>0.0</td>\n",
              "      <td>0.0</td>\n",
              "      <td>0.0</td>\n",
              "      <td>0.0</td>\n",
              "      <td>0.0</td>\n",
              "      <td>...</td>\n",
              "      <td>0.0</td>\n",
              "      <td>0.0</td>\n",
              "      <td>0.0</td>\n",
              "      <td>0.0</td>\n",
              "      <td>0.0</td>\n",
              "      <td>0.0</td>\n",
              "      <td>0.0</td>\n",
              "      <td>0.0</td>\n",
              "      <td>0.0</td>\n",
              "      <td>0.0</td>\n",
              "    </tr>\n",
              "    <tr>\n",
              "      <th>4</th>\n",
              "      <td>HachiMaruPop-Regular</td>\n",
              "      <td>F</td>\n",
              "      <td>0.0</td>\n",
              "      <td>0.0</td>\n",
              "      <td>0.0</td>\n",
              "      <td>0.0</td>\n",
              "      <td>0.0</td>\n",
              "      <td>0.0</td>\n",
              "      <td>0.0</td>\n",
              "      <td>0.0</td>\n",
              "      <td>...</td>\n",
              "      <td>0.0</td>\n",
              "      <td>0.0</td>\n",
              "      <td>0.0</td>\n",
              "      <td>0.0</td>\n",
              "      <td>0.0</td>\n",
              "      <td>0.0</td>\n",
              "      <td>0.0</td>\n",
              "      <td>0.0</td>\n",
              "      <td>0.0</td>\n",
              "      <td>0.0</td>\n",
              "    </tr>\n",
              "  </tbody>\n",
              "</table>\n",
              "<p>5 rows × 786 columns</p>\n",
              "</div>\n",
              "    <div class=\"colab-df-buttons\">\n",
              "\n",
              "  <div class=\"colab-df-container\">\n",
              "    <button class=\"colab-df-convert\" onclick=\"convertToInteractive('df-c539012a-57f0-4f6a-86d9-ca5f10bfc2ad')\"\n",
              "            title=\"Convert this dataframe to an interactive table.\"\n",
              "            style=\"display:none;\">\n",
              "\n",
              "  <svg xmlns=\"http://www.w3.org/2000/svg\" height=\"24px\" viewBox=\"0 -960 960 960\">\n",
              "    <path d=\"M120-120v-720h720v720H120Zm60-500h600v-160H180v160Zm220 220h160v-160H400v160Zm0 220h160v-160H400v160ZM180-400h160v-160H180v160Zm440 0h160v-160H620v160ZM180-180h160v-160H180v160Zm440 0h160v-160H620v160Z\"/>\n",
              "  </svg>\n",
              "    </button>\n",
              "\n",
              "  <style>\n",
              "    .colab-df-container {\n",
              "      display:flex;\n",
              "      gap: 12px;\n",
              "    }\n",
              "\n",
              "    .colab-df-convert {\n",
              "      background-color: #E8F0FE;\n",
              "      border: none;\n",
              "      border-radius: 50%;\n",
              "      cursor: pointer;\n",
              "      display: none;\n",
              "      fill: #1967D2;\n",
              "      height: 32px;\n",
              "      padding: 0 0 0 0;\n",
              "      width: 32px;\n",
              "    }\n",
              "\n",
              "    .colab-df-convert:hover {\n",
              "      background-color: #E2EBFA;\n",
              "      box-shadow: 0px 1px 2px rgba(60, 64, 67, 0.3), 0px 1px 3px 1px rgba(60, 64, 67, 0.15);\n",
              "      fill: #174EA6;\n",
              "    }\n",
              "\n",
              "    .colab-df-buttons div {\n",
              "      margin-bottom: 4px;\n",
              "    }\n",
              "\n",
              "    [theme=dark] .colab-df-convert {\n",
              "      background-color: #3B4455;\n",
              "      fill: #D2E3FC;\n",
              "    }\n",
              "\n",
              "    [theme=dark] .colab-df-convert:hover {\n",
              "      background-color: #434B5C;\n",
              "      box-shadow: 0px 1px 3px 1px rgba(0, 0, 0, 0.15);\n",
              "      filter: drop-shadow(0px 1px 2px rgba(0, 0, 0, 0.3));\n",
              "      fill: #FFFFFF;\n",
              "    }\n",
              "  </style>\n",
              "\n",
              "    <script>\n",
              "      const buttonEl =\n",
              "        document.querySelector('#df-c539012a-57f0-4f6a-86d9-ca5f10bfc2ad button.colab-df-convert');\n",
              "      buttonEl.style.display =\n",
              "        google.colab.kernel.accessAllowed ? 'block' : 'none';\n",
              "\n",
              "      async function convertToInteractive(key) {\n",
              "        const element = document.querySelector('#df-c539012a-57f0-4f6a-86d9-ca5f10bfc2ad');\n",
              "        const dataTable =\n",
              "          await google.colab.kernel.invokeFunction('convertToInteractive',\n",
              "                                                    [key], {});\n",
              "        if (!dataTable) return;\n",
              "\n",
              "        const docLinkHtml = 'Like what you see? Visit the ' +\n",
              "          '<a target=\"_blank\" href=https://colab.research.google.com/notebooks/data_table.ipynb>data table notebook</a>'\n",
              "          + ' to learn more about interactive tables.';\n",
              "        element.innerHTML = '';\n",
              "        dataTable['output_type'] = 'display_data';\n",
              "        await google.colab.output.renderOutput(dataTable, element);\n",
              "        const docLink = document.createElement('div');\n",
              "        docLink.innerHTML = docLinkHtml;\n",
              "        element.appendChild(docLink);\n",
              "      }\n",
              "    </script>\n",
              "  </div>\n",
              "\n",
              "\n",
              "<div id=\"df-bd7df266-4217-4012-b729-5512807f2ce0\">\n",
              "  <button class=\"colab-df-quickchart\" onclick=\"quickchart('df-bd7df266-4217-4012-b729-5512807f2ce0')\"\n",
              "            title=\"Suggest charts\"\n",
              "            style=\"display:none;\">\n",
              "\n",
              "<svg xmlns=\"http://www.w3.org/2000/svg\" height=\"24px\"viewBox=\"0 0 24 24\"\n",
              "     width=\"24px\">\n",
              "    <g>\n",
              "        <path d=\"M19 3H5c-1.1 0-2 .9-2 2v14c0 1.1.9 2 2 2h14c1.1 0 2-.9 2-2V5c0-1.1-.9-2-2-2zM9 17H7v-7h2v7zm4 0h-2V7h2v10zm4 0h-2v-4h2v4z\"/>\n",
              "    </g>\n",
              "</svg>\n",
              "  </button>\n",
              "\n",
              "<style>\n",
              "  .colab-df-quickchart {\n",
              "      --bg-color: #E8F0FE;\n",
              "      --fill-color: #1967D2;\n",
              "      --hover-bg-color: #E2EBFA;\n",
              "      --hover-fill-color: #174EA6;\n",
              "      --disabled-fill-color: #AAA;\n",
              "      --disabled-bg-color: #DDD;\n",
              "  }\n",
              "\n",
              "  [theme=dark] .colab-df-quickchart {\n",
              "      --bg-color: #3B4455;\n",
              "      --fill-color: #D2E3FC;\n",
              "      --hover-bg-color: #434B5C;\n",
              "      --hover-fill-color: #FFFFFF;\n",
              "      --disabled-bg-color: #3B4455;\n",
              "      --disabled-fill-color: #666;\n",
              "  }\n",
              "\n",
              "  .colab-df-quickchart {\n",
              "    background-color: var(--bg-color);\n",
              "    border: none;\n",
              "    border-radius: 50%;\n",
              "    cursor: pointer;\n",
              "    display: none;\n",
              "    fill: var(--fill-color);\n",
              "    height: 32px;\n",
              "    padding: 0;\n",
              "    width: 32px;\n",
              "  }\n",
              "\n",
              "  .colab-df-quickchart:hover {\n",
              "    background-color: var(--hover-bg-color);\n",
              "    box-shadow: 0 1px 2px rgba(60, 64, 67, 0.3), 0 1px 3px 1px rgba(60, 64, 67, 0.15);\n",
              "    fill: var(--button-hover-fill-color);\n",
              "  }\n",
              "\n",
              "  .colab-df-quickchart-complete:disabled,\n",
              "  .colab-df-quickchart-complete:disabled:hover {\n",
              "    background-color: var(--disabled-bg-color);\n",
              "    fill: var(--disabled-fill-color);\n",
              "    box-shadow: none;\n",
              "  }\n",
              "\n",
              "  .colab-df-spinner {\n",
              "    border: 2px solid var(--fill-color);\n",
              "    border-color: transparent;\n",
              "    border-bottom-color: var(--fill-color);\n",
              "    animation:\n",
              "      spin 1s steps(1) infinite;\n",
              "  }\n",
              "\n",
              "  @keyframes spin {\n",
              "    0% {\n",
              "      border-color: transparent;\n",
              "      border-bottom-color: var(--fill-color);\n",
              "      border-left-color: var(--fill-color);\n",
              "    }\n",
              "    20% {\n",
              "      border-color: transparent;\n",
              "      border-left-color: var(--fill-color);\n",
              "      border-top-color: var(--fill-color);\n",
              "    }\n",
              "    30% {\n",
              "      border-color: transparent;\n",
              "      border-left-color: var(--fill-color);\n",
              "      border-top-color: var(--fill-color);\n",
              "      border-right-color: var(--fill-color);\n",
              "    }\n",
              "    40% {\n",
              "      border-color: transparent;\n",
              "      border-right-color: var(--fill-color);\n",
              "      border-top-color: var(--fill-color);\n",
              "    }\n",
              "    60% {\n",
              "      border-color: transparent;\n",
              "      border-right-color: var(--fill-color);\n",
              "    }\n",
              "    80% {\n",
              "      border-color: transparent;\n",
              "      border-right-color: var(--fill-color);\n",
              "      border-bottom-color: var(--fill-color);\n",
              "    }\n",
              "    90% {\n",
              "      border-color: transparent;\n",
              "      border-bottom-color: var(--fill-color);\n",
              "    }\n",
              "  }\n",
              "</style>\n",
              "\n",
              "  <script>\n",
              "    async function quickchart(key) {\n",
              "      const quickchartButtonEl =\n",
              "        document.querySelector('#' + key + ' button');\n",
              "      quickchartButtonEl.disabled = true;  // To prevent multiple clicks.\n",
              "      quickchartButtonEl.classList.add('colab-df-spinner');\n",
              "      try {\n",
              "        const charts = await google.colab.kernel.invokeFunction(\n",
              "            'suggestCharts', [key], {});\n",
              "      } catch (error) {\n",
              "        console.error('Error during call to suggestCharts:', error);\n",
              "      }\n",
              "      quickchartButtonEl.classList.remove('colab-df-spinner');\n",
              "      quickchartButtonEl.classList.add('colab-df-quickchart-complete');\n",
              "    }\n",
              "    (() => {\n",
              "      let quickchartButtonEl =\n",
              "        document.querySelector('#df-bd7df266-4217-4012-b729-5512807f2ce0 button');\n",
              "      quickchartButtonEl.style.display =\n",
              "        google.colab.kernel.accessAllowed ? 'block' : 'none';\n",
              "    })();\n",
              "  </script>\n",
              "</div>\n",
              "\n",
              "    </div>\n",
              "  </div>\n"
            ],
            "application/vnd.google.colaboratory.intrinsic+json": {
              "type": "dataframe",
              "variable_name": "df"
            }
          },
          "metadata": {},
          "execution_count": 4
        }
      ]
    },
    {
      "cell_type": "code",
      "source": [
        "class_labels = ['H','e','l','o',',','W','r','d','!']\n",
        "\n",
        "df = df[df['labels'].isin(class_labels)]"
      ],
      "metadata": {
        "id": "Uzd4U995MPK0"
      },
      "execution_count": null,
      "outputs": []
    },
    {
      "cell_type": "code",
      "source": [
        "category_counts = df['labels'].value_counts()\n",
        "\n",
        "category_counts.shape"
      ],
      "metadata": {
        "colab": {
          "base_uri": "https://localhost:8080/"
        },
        "id": "41fTmYOXMRJ4",
        "outputId": "9d322b9d-ee6c-4d74-d3b4-300d032eea1e"
      },
      "execution_count": null,
      "outputs": [
        {
          "output_type": "execute_result",
          "data": {
            "text/plain": [
              "(9,)"
            ]
          },
          "metadata": {},
          "execution_count": 6
        }
      ]
    },
    {
      "cell_type": "code",
      "source": [
        "print(f\"The Shape of the Dataframe is: {df.shape}\")\n",
        "print(f\"Number of Samples: {df.shape[0]}\")\n",
        "print(f\"Number of unique character present in the Dataset: {len(df.labels.unique())}\")"
      ],
      "metadata": {
        "colab": {
          "base_uri": "https://localhost:8080/"
        },
        "id": "oElfAn1SMTCO",
        "outputId": "3ed430bb-f20e-42b0-aaa4-d08e83b244cc"
      },
      "execution_count": null,
      "outputs": [
        {
          "output_type": "stream",
          "name": "stdout",
          "text": [
            "The Shape of the Dataframe is: (26091, 786)\n",
            "Number of Samples: 26091\n",
            "Number of unique character present in the Dataset: 9\n"
          ]
        }
      ]
    },
    {
      "cell_type": "code",
      "source": [
        "import matplotlib.pyplot as plt\n",
        "import cv2\n",
        "import numpy as np\n",
        "from google.colab.patches import cv2_imshow\n",
        "\n",
        "\n",
        "def plot_figs(X, y):\n",
        "    plt.figure(figsize=(10, 8))\n",
        "    for i in range(10):\n",
        "      plt.subplot(3,5,i+1)\n",
        "      plt.title(y.iloc[i])\n",
        "      plt.imshow(X.values[i].reshape(28,28), cmap=plt.get_cmap('gray'))\n",
        "    plt.show()"
      ],
      "metadata": {
        "id": "04FIgNWHMUnV"
      },
      "execution_count": null,
      "outputs": []
    },
    {
      "cell_type": "code",
      "source": [
        "import re\n",
        "y = df[\"labels\"]\n",
        "X = df.drop([\"names\", \"labels\"], axis = 1)\n",
        "\n",
        "plot_figs(X, y)"
      ],
      "metadata": {
        "colab": {
          "base_uri": "https://localhost:8080/",
          "height": 527
        },
        "collapsed": true,
        "id": "ztSEXQF_MWJw",
        "outputId": "5fb31b7d-e078-4265-ad25-14b65b8c46ba"
      },
      "execution_count": null,
      "outputs": [
        {
          "output_type": "error",
          "ename": "ValueError",
          "evalue": "cannot reshape array of size 784 into shape (32,32)",
          "traceback": [
            "\u001b[0;31m---------------------------------------------------------------------------\u001b[0m",
            "\u001b[0;31mValueError\u001b[0m                                Traceback (most recent call last)",
            "\u001b[0;32m<ipython-input-77-fef9b0592754>\u001b[0m in \u001b[0;36m<cell line: 5>\u001b[0;34m()\u001b[0m\n\u001b[1;32m      3\u001b[0m \u001b[0mX\u001b[0m \u001b[0;34m=\u001b[0m \u001b[0mdf\u001b[0m\u001b[0;34m.\u001b[0m\u001b[0mdrop\u001b[0m\u001b[0;34m(\u001b[0m\u001b[0;34m[\u001b[0m\u001b[0;34m\"names\"\u001b[0m\u001b[0;34m,\u001b[0m \u001b[0;34m\"labels\"\u001b[0m\u001b[0;34m]\u001b[0m\u001b[0;34m,\u001b[0m \u001b[0maxis\u001b[0m \u001b[0;34m=\u001b[0m \u001b[0;36m1\u001b[0m\u001b[0;34m)\u001b[0m\u001b[0;34m\u001b[0m\u001b[0;34m\u001b[0m\u001b[0m\n\u001b[1;32m      4\u001b[0m \u001b[0;34m\u001b[0m\u001b[0m\n\u001b[0;32m----> 5\u001b[0;31m \u001b[0mplot_figs\u001b[0m\u001b[0;34m(\u001b[0m\u001b[0mX\u001b[0m\u001b[0;34m,\u001b[0m \u001b[0my\u001b[0m\u001b[0;34m)\u001b[0m\u001b[0;34m\u001b[0m\u001b[0;34m\u001b[0m\u001b[0m\n\u001b[0m",
            "\u001b[0;32m<ipython-input-76-eed6920d8723>\u001b[0m in \u001b[0;36mplot_figs\u001b[0;34m(X, y)\u001b[0m\n\u001b[1;32m      9\u001b[0m       \u001b[0mplt\u001b[0m\u001b[0;34m.\u001b[0m\u001b[0msubplot\u001b[0m\u001b[0;34m(\u001b[0m\u001b[0;36m3\u001b[0m\u001b[0;34m,\u001b[0m\u001b[0;36m5\u001b[0m\u001b[0;34m,\u001b[0m\u001b[0mi\u001b[0m\u001b[0;34m+\u001b[0m\u001b[0;36m1\u001b[0m\u001b[0;34m)\u001b[0m\u001b[0;34m\u001b[0m\u001b[0;34m\u001b[0m\u001b[0m\n\u001b[1;32m     10\u001b[0m       \u001b[0mplt\u001b[0m\u001b[0;34m.\u001b[0m\u001b[0mtitle\u001b[0m\u001b[0;34m(\u001b[0m\u001b[0my\u001b[0m\u001b[0;34m.\u001b[0m\u001b[0miloc\u001b[0m\u001b[0;34m[\u001b[0m\u001b[0mi\u001b[0m\u001b[0;34m]\u001b[0m\u001b[0;34m)\u001b[0m\u001b[0;34m\u001b[0m\u001b[0;34m\u001b[0m\u001b[0m\n\u001b[0;32m---> 11\u001b[0;31m       \u001b[0mplt\u001b[0m\u001b[0;34m.\u001b[0m\u001b[0mimshow\u001b[0m\u001b[0;34m(\u001b[0m\u001b[0mX\u001b[0m\u001b[0;34m.\u001b[0m\u001b[0mvalues\u001b[0m\u001b[0;34m[\u001b[0m\u001b[0mi\u001b[0m\u001b[0;34m]\u001b[0m\u001b[0;34m.\u001b[0m\u001b[0mreshape\u001b[0m\u001b[0;34m(\u001b[0m\u001b[0;36m32\u001b[0m\u001b[0;34m,\u001b[0m\u001b[0;36m32\u001b[0m\u001b[0;34m)\u001b[0m\u001b[0;34m,\u001b[0m \u001b[0mcmap\u001b[0m\u001b[0;34m=\u001b[0m\u001b[0mplt\u001b[0m\u001b[0;34m.\u001b[0m\u001b[0mget_cmap\u001b[0m\u001b[0;34m(\u001b[0m\u001b[0;34m'gray'\u001b[0m\u001b[0;34m)\u001b[0m\u001b[0;34m)\u001b[0m\u001b[0;34m\u001b[0m\u001b[0;34m\u001b[0m\u001b[0m\n\u001b[0m\u001b[1;32m     12\u001b[0m     \u001b[0mplt\u001b[0m\u001b[0;34m.\u001b[0m\u001b[0mshow\u001b[0m\u001b[0;34m(\u001b[0m\u001b[0;34m)\u001b[0m\u001b[0;34m\u001b[0m\u001b[0;34m\u001b[0m\u001b[0m\n",
            "\u001b[0;31mValueError\u001b[0m: cannot reshape array of size 784 into shape (32,32)"
          ]
        },
        {
          "output_type": "display_data",
          "data": {
            "text/plain": [
              "<Figure size 1000x800 with 1 Axes>"
            ],
            "image/png": "[encoded data removed]"
          },
          "metadata": {}
        }
      ]
    },
    {
      "cell_type": "code",
      "source": [
        "from sklearn.model_selection import train_test_split\n",
        "\n",
        "X_train, X_test, y_train, y_test = train_test_split(X, y, test_size = 0.2)\n",
        "plot_figs(X_train, y_train)"
      ],
      "metadata": {
        "colab": {
          "base_uri": "https://localhost:8080/",
          "height": 434
        },
        "id": "NH9nIy8-M6FV",
        "outputId": "b77a9de4-421f-47b4-dc52-24a229c05d3f"
      },
      "execution_count": null,
      "outputs": [
        {
          "output_type": "display_data",
          "data": {
            "text/plain": [
              "<Figure size 1000x800 with 10 Axes>"
            ],
            "image/png": "[encoded data removed]"
          },
          "metadata": {}
        }
      ]
    },
    {
      "cell_type": "code",
      "source": [
        "from tensorflow.keras.models import Sequential,load_model\n",
        "from tensorflow.keras.layers import Dense,Reshape, Conv2D, MaxPooling2D,Flatten,Dropout,BatchNormalization,Dense\n",
        "from tensorflow.keras.optimizers import SGD, Adam, RMSprop\n",
        "from tensorflow.keras.callbacks import EarlyStopping\n",
        "from sklearn.preprocessing import OneHotEncoder\n",
        "from keras.preprocessing.image import load_img, img_to_array\n"
      ],
      "metadata": {
        "id": "Z5T4foORMYnP"
      },
      "execution_count": null,
      "outputs": []
    },
    {
      "cell_type": "code",
      "source": [
        "enc = OneHotEncoder(sparse_output=False,handle_unknown='ignore')\n",
        "y_train_encoded=enc.fit_transform(y_train.values.reshape(-1,1))\n",
        "y_test_encoded=  enc.transform(y_test.values.reshape(-1,1))\n",
        "# Sum up occurrences of each class in the encoded arrays\n",
        "y_train_sum = y_train_encoded.sum(axis=0)\n",
        "y_test_sum = y_test_encoded.sum(axis=0)\n",
        "\n",
        "X_train= (X_train.astype('float32'))/255.0\n",
        "X_test = (X_test.astype('float32'))/255.0"
      ],
      "metadata": {
        "id": "6PfHgxntMs1F"
      },
      "execution_count": null,
      "outputs": []
    },
    {
      "cell_type": "code",
      "source": [
        "X_train_norm=X_train.values.reshape(X_train.shape[0],28,28)\n",
        "X_test_norm=X_test.values.reshape(X_test.shape[0],28,28)\n",
        "\n",
        "no_of_classes=df['labels'].nunique()\n",
        "\n",
        "\n",
        "#since each pixel is a number between 0-1 we will first start with basic Neural Network\n",
        "model = Sequential([\n",
        "    Reshape((28,28,1), input_shape=(28,28)),\n",
        "    Conv2D(32, (3,3), activation='relu', padding='same'),\n",
        "    BatchNormalization(),\n",
        "    MaxPooling2D((2,2)),\n",
        "    Dropout(0.25),\n",
        "    Conv2D(128, (3,3), activation='relu', padding='same'),\n",
        "    BatchNormalization(),\n",
        "    MaxPooling2D((2,2)),\n",
        "    Dropout(0.25),\n",
        "    Conv2D(256, (3,3), activation='relu', padding='same'),\n",
        "    BatchNormalization(),\n",
        "    MaxPooling2D((2,2)),\n",
        "    Dropout(0.25),\n",
        "    Flatten(),\n",
        "    Dense(512, activation='relu'),\n",
        "    BatchNormalization(),\n",
        "    Dropout(0.5),\n",
        "    Dense(256, activation='relu'),\n",
        "    BatchNormalization(),\n",
        "    Dropout(0.5),\n",
        "    Dense(128, activation='relu'),\n",
        "    BatchNormalization(),\n",
        "    Dropout(0.5),\n",
        "    Dense(32, activation='relu'),\n",
        "    Dense(no_of_classes, activation='softmax')\n",
        "])\n",
        "\n",
        "\n",
        "opt = Adam(learning_rate=0.001)\n",
        "model.compile(optimizer=opt, loss='categorical_crossentropy', metrics=['accuracy'])\n",
        "model.summary()"
      ],
      "metadata": {
        "colab": {
          "base_uri": "https://localhost:8080/",
          "height": 211
        },
        "id": "6wNwDWoHMy5l",
        "outputId": "363fba94-3cb2-4283-fc2e-ed27bce4795a"
      },
      "execution_count": null,
      "outputs": [
        {
          "output_type": "error",
          "ename": "ValueError",
          "evalue": "cannot reshape array of size 16363648 into shape (20872,64,64)",
          "traceback": [
            "\u001b[0;31m---------------------------------------------------------------------------\u001b[0m",
            "\u001b[0;31mValueError\u001b[0m                                Traceback (most recent call last)",
            "\u001b[0;32m<ipython-input-73-dc5c4c8d89b6>\u001b[0m in \u001b[0;36m<cell line: 1>\u001b[0;34m()\u001b[0m\n\u001b[0;32m----> 1\u001b[0;31m \u001b[0mX_train_norm\u001b[0m\u001b[0;34m=\u001b[0m\u001b[0mX_train\u001b[0m\u001b[0;34m.\u001b[0m\u001b[0mvalues\u001b[0m\u001b[0;34m.\u001b[0m\u001b[0mreshape\u001b[0m\u001b[0;34m(\u001b[0m\u001b[0mX_train\u001b[0m\u001b[0;34m.\u001b[0m\u001b[0mshape\u001b[0m\u001b[0;34m[\u001b[0m\u001b[0;36m0\u001b[0m\u001b[0;34m]\u001b[0m\u001b[0;34m,\u001b[0m\u001b[0;36m64\u001b[0m\u001b[0;34m,\u001b[0m\u001b[0;36m64\u001b[0m\u001b[0;34m)\u001b[0m\u001b[0;34m\u001b[0m\u001b[0;34m\u001b[0m\u001b[0m\n\u001b[0m\u001b[1;32m      2\u001b[0m \u001b[0mX_test_norm\u001b[0m\u001b[0;34m=\u001b[0m\u001b[0mX_test\u001b[0m\u001b[0;34m.\u001b[0m\u001b[0mvalues\u001b[0m\u001b[0;34m.\u001b[0m\u001b[0mreshape\u001b[0m\u001b[0;34m(\u001b[0m\u001b[0mX_test\u001b[0m\u001b[0;34m.\u001b[0m\u001b[0mshape\u001b[0m\u001b[0;34m[\u001b[0m\u001b[0;36m0\u001b[0m\u001b[0;34m]\u001b[0m\u001b[0;34m,\u001b[0m\u001b[0;36m64\u001b[0m\u001b[0;34m,\u001b[0m\u001b[0;36m64\u001b[0m\u001b[0;34m)\u001b[0m\u001b[0;34m\u001b[0m\u001b[0;34m\u001b[0m\u001b[0m\n\u001b[1;32m      3\u001b[0m \u001b[0;34m\u001b[0m\u001b[0m\n\u001b[1;32m      4\u001b[0m \u001b[0mno_of_classes\u001b[0m\u001b[0;34m=\u001b[0m\u001b[0mdf\u001b[0m\u001b[0;34m[\u001b[0m\u001b[0;34m'labels'\u001b[0m\u001b[0;34m]\u001b[0m\u001b[0;34m.\u001b[0m\u001b[0mnunique\u001b[0m\u001b[0;34m(\u001b[0m\u001b[0;34m)\u001b[0m\u001b[0;34m\u001b[0m\u001b[0;34m\u001b[0m\u001b[0m\n\u001b[1;32m      5\u001b[0m \u001b[0;34m\u001b[0m\u001b[0m\n",
            "\u001b[0;31mValueError\u001b[0m: cannot reshape array of size 16363648 into shape (20872,64,64)"
          ]
        }
      ]
    },
    {
      "cell_type": "code",
      "source": [
        "#fitting the model\n",
        "model_history=model.fit(X_train_norm, y_train_encoded, epochs=20, validation_data=(X_test_norm, y_test_encoded), verbose=1,batch_size=128)"
      ],
      "metadata": {
        "colab": {
          "base_uri": "https://localhost:8080/"
        },
        "id": "ipWlea52M9tE",
        "outputId": "5bb77a34-6a2c-476c-d43e-363809f04469"
      },
      "execution_count": null,
      "outputs": [
        {
          "output_type": "stream",
          "name": "stdout",
          "text": [
            "Epoch 1/20\n",
            "164/164 [==============================] - 13s 26ms/step - loss: 0.7262 - accuracy: 0.7548 - val_loss: 6.7672 - val_accuracy: 0.1090\n",
            "Epoch 2/20\n",
            "164/164 [==============================] - 3s 20ms/step - loss: 0.1913 - accuracy: 0.9432 - val_loss: 7.5473 - val_accuracy: 0.1090\n",
            "Epoch 3/20\n",
            "164/164 [==============================] - 3s 16ms/step - loss: 0.1303 - accuracy: 0.9606 - val_loss: 1.5378 - val_accuracy: 0.6561\n",
            "Epoch 4/20\n",
            "164/164 [==============================] - 2s 15ms/step - loss: 0.0876 - accuracy: 0.9745 - val_loss: 0.1678 - val_accuracy: 0.9571\n",
            "Epoch 5/20\n",
            "164/164 [==============================] - 3s 16ms/step - loss: 0.0734 - accuracy: 0.9788 - val_loss: 0.0527 - val_accuracy: 0.9851\n",
            "Epoch 6/20\n",
            "164/164 [==============================] - 3s 16ms/step - loss: 0.0601 - accuracy: 0.9835 - val_loss: 0.0482 - val_accuracy: 0.9845\n",
            "Epoch 7/20\n",
            "164/164 [==============================] - 3s 20ms/step - loss: 0.0517 - accuracy: 0.9845 - val_loss: 0.0485 - val_accuracy: 0.9868\n",
            "Epoch 8/20\n",
            "164/164 [==============================] - 3s 21ms/step - loss: 0.0511 - accuracy: 0.9851 - val_loss: 0.0331 - val_accuracy: 0.9898\n",
            "Epoch 9/20\n",
            "164/164 [==============================] - 3s 17ms/step - loss: 0.0593 - accuracy: 0.9822 - val_loss: 0.0341 - val_accuracy: 0.9902\n",
            "Epoch 10/20\n",
            "164/164 [==============================] - 3s 16ms/step - loss: 0.0544 - accuracy: 0.9848 - val_loss: 0.0384 - val_accuracy: 0.9897\n",
            "Epoch 11/20\n",
            "164/164 [==============================] - 2s 15ms/step - loss: 0.0519 - accuracy: 0.9846 - val_loss: 0.0458 - val_accuracy: 0.9877\n",
            "Epoch 12/20\n",
            "164/164 [==============================] - 2s 15ms/step - loss: 0.0394 - accuracy: 0.9892 - val_loss: 0.0277 - val_accuracy: 0.9920\n",
            "Epoch 13/20\n",
            "164/164 [==============================] - 3s 20ms/step - loss: 0.0408 - accuracy: 0.9885 - val_loss: 0.0551 - val_accuracy: 0.9864\n",
            "Epoch 14/20\n",
            "164/164 [==============================] - 3s 20ms/step - loss: 0.0319 - accuracy: 0.9905 - val_loss: 0.0305 - val_accuracy: 0.9923\n",
            "Epoch 15/20\n",
            "164/164 [==============================] - 3s 17ms/step - loss: 0.0332 - accuracy: 0.9900 - val_loss: 0.0311 - val_accuracy: 0.9931\n",
            "Epoch 16/20\n",
            "164/164 [==============================] - 3s 16ms/step - loss: 0.0310 - accuracy: 0.9914 - val_loss: 0.0557 - val_accuracy: 0.9868\n",
            "Epoch 17/20\n",
            "164/164 [==============================] - 3s 16ms/step - loss: 0.0405 - accuracy: 0.9884 - val_loss: 0.0314 - val_accuracy: 0.9910\n",
            "Epoch 18/20\n",
            "164/164 [==============================] - 3s 16ms/step - loss: 0.0266 - accuracy: 0.9925 - val_loss: 0.0320 - val_accuracy: 0.9910\n",
            "Epoch 19/20\n",
            "164/164 [==============================] - 3s 18ms/step - loss: 0.0229 - accuracy: 0.9937 - val_loss: 0.0289 - val_accuracy: 0.9920\n",
            "Epoch 20/20\n",
            "164/164 [==============================] - 3s 20ms/step - loss: 0.0297 - accuracy: 0.9920 - val_loss: 0.0259 - val_accuracy: 0.9933\n"
          ]
        }
      ]
    },
    {
      "cell_type": "code",
      "source": [
        "import numpy as np\n",
        "plt.figure(figsize=(14, 6))\n",
        "plt.subplot(1,2,1)\n",
        "epochs=np.arange(20)\n",
        "plt.title('Accuracy vs Epochs')\n",
        "plt.plot(epochs,model_history.history['accuracy'],label='train', color='#851D2D')\n",
        "plt.ylabel('Accuracy')\n",
        "plt.plot(epochs,model_history.history['val_accuracy'],label='test', color='#306844')\n",
        "plt.legend()\n",
        "plt.subplot(1,2,2)\n",
        "plt.title('Loss vs Epochs')\n",
        "plt.plot(epochs,model_history.history['loss'],label='train', color='#851D2D')\n",
        "plt.ylabel('Loss')\n",
        "plt.plot(epochs,model_history.history['val_loss'],label='test', color='#306844')\n",
        "plt.legend()\n",
        "plt.show()"
      ],
      "metadata": {
        "colab": {
          "base_uri": "https://localhost:8080/",
          "height": 541
        },
        "id": "qbyc7o61NBJi",
        "outputId": "6fee756e-f887-454d-b04b-843d230c50ad"
      },
      "execution_count": null,
      "outputs": [
        {
          "output_type": "display_data",
          "data": {
            "text/plain": [
              "<Figure size 1400x600 with 2 Axes>"
            ],
            "image/png": "[encoded data removed]"
          },
          "metadata": {}
        }
      ]
    },
    {
      "cell_type": "code",
      "source": [
        "class StringNumberMap:\n",
        "    def __init__(self):\n",
        "        self.string_to_number = {}\n",
        "        self.number_to_string = {}\n",
        "        self.next_number = 0\n",
        "\n",
        "    def add_string(self, string):\n",
        "        if string not in self.string_to_number:\n",
        "            self.string_to_number[string] = self.next_number\n",
        "            self.number_to_string[self.next_number] = string\n",
        "            self.next_number += 1\n",
        "\n",
        "    def get_number(self, string):\n",
        "        if string in self.string_to_number:\n",
        "            return self.string_to_number[string]\n",
        "        else:\n",
        "            return None\n",
        "\n",
        "    def get_string(self, number):\n",
        "        if number in self.number_to_string:\n",
        "            return self.number_to_string[number]\n",
        "        else:\n",
        "            return None"
      ],
      "metadata": {
        "id": "n7J4b2nsNGj0"
      },
      "execution_count": null,
      "outputs": []
    },
    {
      "cell_type": "code",
      "source": [
        "import os\n",
        "import csv\n",
        "import cv2\n",
        "import numpy as np\n",
        "from google.colab.patches import cv2_imshow"
      ],
      "metadata": {
        "id": "qzhcx8RQTAA-"
      },
      "execution_count": null,
      "outputs": []
    },
    {
      "cell_type": "code",
      "source": [
        "# Set the directory path\n",
        "dir_path = '/content/Data'\n",
        "\n",
        "map=StringNumberMap()\n",
        "# Define a function to convert image name to image ID\n",
        "def name_to_id(name):\n",
        "    return name.split('.')[0]\n",
        "# Create a CSV file\n",
        "with open('image_list.csv', 'w', newline='') as csvfile:\n",
        "    writer = csv.writer(csvfile)\n",
        "\n",
        "    # Write the header row\n",
        "    writer.writerow(['Image Path', 'Image Name','Image Id'])\n",
        "\n",
        "    # Iterate through the directory\n",
        "    for filename in os.listdir(dir_path):\n",
        "        # Check if the file is an image\n",
        "        if filename.endswith(('.jpg', '.jpeg', '.png', '.bmp', '.gif')):\n",
        "            # Get the image path and name\n",
        "            image_path = os.path.join(dir_path, filename)\n",
        "            image_name = os.path.basename(filename).split(' ')[0]\n",
        "            map.add_string(image_name)\n",
        "            # Get the image ID\n",
        "            image_id = map.get_number(image_name)\n",
        "            # Write the row to the CSV file\n",
        "            writer.writerow([image_path, image_name,image_id])"
      ],
      "metadata": {
        "id": "1XFAcu6vOCDa"
      },
      "execution_count": null,
      "outputs": []
    },
    {
      "cell_type": "code",
      "source": [
        "df1='/content/image_list.csv'\n",
        "df1 = pd.read_csv(df1)\n",
        "df1.head()"
      ],
      "metadata": {
        "colab": {
          "base_uri": "https://localhost:8080/",
          "height": 206
        },
        "id": "dCf76HOMOVfB",
        "outputId": "f8cfacc9-30cb-4cc2-c696-aff24012266d"
      },
      "execution_count": null,
      "outputs": [
        {
          "output_type": "execute_result",
          "data": {
            "text/plain": [
              "                        Image Path   Image Name  Image Id\n",
              "0    /content/Data/Patau_One 1.png    Patau_One         0\n",
              "1    /content/Data/Open_Sans 3.png    Open_Sans         1\n",
              "2    /content/Data/Open_Sans 2.png    Open_Sans         1\n",
              "3    /content/Data/Noto_Sans 3.png    Noto_Sans         2\n",
              "4  /content/Data/Fredoka_One 4.png  Fredoka_One         3"
            ],
            "text/html": [
              "\n",
              "  <div id=\"df-16923a57-ae7f-481c-a838-bf87de17c8bc\" class=\"colab-df-container\">\n",
              "    <div>\n",
              "<style scoped>\n",
              "    .dataframe tbody tr th:only-of-type {\n",
              "        vertical-align: middle;\n",
              "    }\n",
              "\n",
              "    .dataframe tbody tr th {\n",
              "        vertical-align: top;\n",
              "    }\n",
              "\n",
              "    .dataframe thead th {\n",
              "        text-align: right;\n",
              "    }\n",
              "</style>\n",
              "<table border=\"1\" class=\"dataframe\">\n",
              "  <thead>\n",
              "    <tr style=\"text-align: right;\">\n",
              "      <th></th>\n",
              "      <th>Image Path</th>\n",
              "      <th>Image Name</th>\n",
              "      <th>Image Id</th>\n",
              "    </tr>\n",
              "  </thead>\n",
              "  <tbody>\n",
              "    <tr>\n",
              "      <th>0</th>\n",
              "      <td>/content/Data/Patau_One 1.png</td>\n",
              "      <td>Patau_One</td>\n",
              "      <td>0</td>\n",
              "    </tr>\n",
              "    <tr>\n",
              "      <th>1</th>\n",
              "      <td>/content/Data/Open_Sans 3.png</td>\n",
              "      <td>Open_Sans</td>\n",
              "      <td>1</td>\n",
              "    </tr>\n",
              "    <tr>\n",
              "      <th>2</th>\n",
              "      <td>/content/Data/Open_Sans 2.png</td>\n",
              "      <td>Open_Sans</td>\n",
              "      <td>1</td>\n",
              "    </tr>\n",
              "    <tr>\n",
              "      <th>3</th>\n",
              "      <td>/content/Data/Noto_Sans 3.png</td>\n",
              "      <td>Noto_Sans</td>\n",
              "      <td>2</td>\n",
              "    </tr>\n",
              "    <tr>\n",
              "      <th>4</th>\n",
              "      <td>/content/Data/Fredoka_One 4.png</td>\n",
              "      <td>Fredoka_One</td>\n",
              "      <td>3</td>\n",
              "    </tr>\n",
              "  </tbody>\n",
              "</table>\n",
              "</div>\n",
              "    <div class=\"colab-df-buttons\">\n",
              "\n",
              "  <div class=\"colab-df-container\">\n",
              "    <button class=\"colab-df-convert\" onclick=\"convertToInteractive('df-16923a57-ae7f-481c-a838-bf87de17c8bc')\"\n",
              "            title=\"Convert this dataframe to an interactive table.\"\n",
              "            style=\"display:none;\">\n",
              "\n",
              "  <svg xmlns=\"http://www.w3.org/2000/svg\" height=\"24px\" viewBox=\"0 -960 960 960\">\n",
              "    <path d=\"M120-120v-720h720v720H120Zm60-500h600v-160H180v160Zm220 220h160v-160H400v160Zm0 220h160v-160H400v160ZM180-400h160v-160H180v160Zm440 0h160v-160H620v160ZM180-180h160v-160H180v160Zm440 0h160v-160H620v160Z\"/>\n",
              "  </svg>\n",
              "    </button>\n",
              "\n",
              "  <style>\n",
              "    .colab-df-container {\n",
              "      display:flex;\n",
              "      gap: 12px;\n",
              "    }\n",
              "\n",
              "    .colab-df-convert {\n",
              "      background-color: #E8F0FE;\n",
              "      border: none;\n",
              "      border-radius: 50%;\n",
              "      cursor: pointer;\n",
              "      display: none;\n",
              "      fill: #1967D2;\n",
              "      height: 32px;\n",
              "      padding: 0 0 0 0;\n",
              "      width: 32px;\n",
              "    }\n",
              "\n",
              "    .colab-df-convert:hover {\n",
              "      background-color: #E2EBFA;\n",
              "      box-shadow: 0px 1px 2px rgba(60, 64, 67, 0.3), 0px 1px 3px 1px rgba(60, 64, 67, 0.15);\n",
              "      fill: #174EA6;\n",
              "    }\n",
              "\n",
              "    .colab-df-buttons div {\n",
              "      margin-bottom: 4px;\n",
              "    }\n",
              "\n",
              "    [theme=dark] .colab-df-convert {\n",
              "      background-color: #3B4455;\n",
              "      fill: #D2E3FC;\n",
              "    }\n",
              "\n",
              "    [theme=dark] .colab-df-convert:hover {\n",
              "      background-color: #434B5C;\n",
              "      box-shadow: 0px 1px 3px 1px rgba(0, 0, 0, 0.15);\n",
              "      filter: drop-shadow(0px 1px 2px rgba(0, 0, 0, 0.3));\n",
              "      fill: #FFFFFF;\n",
              "    }\n",
              "  </style>\n",
              "\n",
              "    <script>\n",
              "      const buttonEl =\n",
              "        document.querySelector('#df-16923a57-ae7f-481c-a838-bf87de17c8bc button.colab-df-convert');\n",
              "      buttonEl.style.display =\n",
              "        google.colab.kernel.accessAllowed ? 'block' : 'none';\n",
              "\n",
              "      async function convertToInteractive(key) {\n",
              "        const element = document.querySelector('#df-16923a57-ae7f-481c-a838-bf87de17c8bc');\n",
              "        const dataTable =\n",
              "          await google.colab.kernel.invokeFunction('convertToInteractive',\n",
              "                                                    [key], {});\n",
              "        if (!dataTable) return;\n",
              "\n",
              "        const docLinkHtml = 'Like what you see? Visit the ' +\n",
              "          '<a target=\"_blank\" href=https://colab.research.google.com/notebooks/data_table.ipynb>data table notebook</a>'\n",
              "          + ' to learn more about interactive tables.';\n",
              "        element.innerHTML = '';\n",
              "        dataTable['output_type'] = 'display_data';\n",
              "        await google.colab.output.renderOutput(dataTable, element);\n",
              "        const docLink = document.createElement('div');\n",
              "        docLink.innerHTML = docLinkHtml;\n",
              "        element.appendChild(docLink);\n",
              "      }\n",
              "    </script>\n",
              "  </div>\n",
              "\n",
              "\n",
              "<div id=\"df-1ddf3b76-d2e3-4879-b551-c0fa7604ee62\">\n",
              "  <button class=\"colab-df-quickchart\" onclick=\"quickchart('df-1ddf3b76-d2e3-4879-b551-c0fa7604ee62')\"\n",
              "            title=\"Suggest charts\"\n",
              "            style=\"display:none;\">\n",
              "\n",
              "<svg xmlns=\"http://www.w3.org/2000/svg\" height=\"24px\"viewBox=\"0 0 24 24\"\n",
              "     width=\"24px\">\n",
              "    <g>\n",
              "        <path d=\"M19 3H5c-1.1 0-2 .9-2 2v14c0 1.1.9 2 2 2h14c1.1 0 2-.9 2-2V5c0-1.1-.9-2-2-2zM9 17H7v-7h2v7zm4 0h-2V7h2v10zm4 0h-2v-4h2v4z\"/>\n",
              "    </g>\n",
              "</svg>\n",
              "  </button>\n",
              "\n",
              "<style>\n",
              "  .colab-df-quickchart {\n",
              "      --bg-color: #E8F0FE;\n",
              "      --fill-color: #1967D2;\n",
              "      --hover-bg-color: #E2EBFA;\n",
              "      --hover-fill-color: #174EA6;\n",
              "      --disabled-fill-color: #AAA;\n",
              "      --disabled-bg-color: #DDD;\n",
              "  }\n",
              "\n",
              "  [theme=dark] .colab-df-quickchart {\n",
              "      --bg-color: #3B4455;\n",
              "      --fill-color: #D2E3FC;\n",
              "      --hover-bg-color: #434B5C;\n",
              "      --hover-fill-color: #FFFFFF;\n",
              "      --disabled-bg-color: #3B4455;\n",
              "      --disabled-fill-color: #666;\n",
              "  }\n",
              "\n",
              "  .colab-df-quickchart {\n",
              "    background-color: var(--bg-color);\n",
              "    border: none;\n",
              "    border-radius: 50%;\n",
              "    cursor: pointer;\n",
              "    display: none;\n",
              "    fill: var(--fill-color);\n",
              "    height: 32px;\n",
              "    padding: 0;\n",
              "    width: 32px;\n",
              "  }\n",
              "\n",
              "  .colab-df-quickchart:hover {\n",
              "    background-color: var(--hover-bg-color);\n",
              "    box-shadow: 0 1px 2px rgba(60, 64, 67, 0.3), 0 1px 3px 1px rgba(60, 64, 67, 0.15);\n",
              "    fill: var(--button-hover-fill-color);\n",
              "  }\n",
              "\n",
              "  .colab-df-quickchart-complete:disabled,\n",
              "  .colab-df-quickchart-complete:disabled:hover {\n",
              "    background-color: var(--disabled-bg-color);\n",
              "    fill: var(--disabled-fill-color);\n",
              "    box-shadow: none;\n",
              "  }\n",
              "\n",
              "  .colab-df-spinner {\n",
              "    border: 2px solid var(--fill-color);\n",
              "    border-color: transparent;\n",
              "    border-bottom-color: var(--fill-color);\n",
              "    animation:\n",
              "      spin 1s steps(1) infinite;\n",
              "  }\n",
              "\n",
              "  @keyframes spin {\n",
              "    0% {\n",
              "      border-color: transparent;\n",
              "      border-bottom-color: var(--fill-color);\n",
              "      border-left-color: var(--fill-color);\n",
              "    }\n",
              "    20% {\n",
              "      border-color: transparent;\n",
              "      border-left-color: var(--fill-color);\n",
              "      border-top-color: var(--fill-color);\n",
              "    }\n",
              "    30% {\n",
              "      border-color: transparent;\n",
              "      border-left-color: var(--fill-color);\n",
              "      border-top-color: var(--fill-color);\n",
              "      border-right-color: var(--fill-color);\n",
              "    }\n",
              "    40% {\n",
              "      border-color: transparent;\n",
              "      border-right-color: var(--fill-color);\n",
              "      border-top-color: var(--fill-color);\n",
              "    }\n",
              "    60% {\n",
              "      border-color: transparent;\n",
              "      border-right-color: var(--fill-color);\n",
              "    }\n",
              "    80% {\n",
              "      border-color: transparent;\n",
              "      border-right-color: var(--fill-color);\n",
              "      border-bottom-color: var(--fill-color);\n",
              "    }\n",
              "    90% {\n",
              "      border-color: transparent;\n",
              "      border-bottom-color: var(--fill-color);\n",
              "    }\n",
              "  }\n",
              "</style>\n",
              "\n",
              "  <script>\n",
              "    async function quickchart(key) {\n",
              "      const quickchartButtonEl =\n",
              "        document.querySelector('#' + key + ' button');\n",
              "      quickchartButtonEl.disabled = true;  // To prevent multiple clicks.\n",
              "      quickchartButtonEl.classList.add('colab-df-spinner');\n",
              "      try {\n",
              "        const charts = await google.colab.kernel.invokeFunction(\n",
              "            'suggestCharts', [key], {});\n",
              "      } catch (error) {\n",
              "        console.error('Error during call to suggestCharts:', error);\n",
              "      }\n",
              "      quickchartButtonEl.classList.remove('colab-df-spinner');\n",
              "      quickchartButtonEl.classList.add('colab-df-quickchart-complete');\n",
              "    }\n",
              "    (() => {\n",
              "      let quickchartButtonEl =\n",
              "        document.querySelector('#df-1ddf3b76-d2e3-4879-b551-c0fa7604ee62 button');\n",
              "      quickchartButtonEl.style.display =\n",
              "        google.colab.kernel.accessAllowed ? 'block' : 'none';\n",
              "    })();\n",
              "  </script>\n",
              "</div>\n",
              "\n",
              "    </div>\n",
              "  </div>\n"
            ],
            "application/vnd.google.colaboratory.intrinsic+json": {
              "type": "dataframe",
              "variable_name": "df1",
              "summary": "{\n  \"name\": \"df1\",\n  \"rows\": 47,\n  \"fields\": [\n    {\n      \"column\": \"Image Path\",\n      \"properties\": {\n        \"dtype\": \"string\",\n        \"num_unique_values\": 47,\n        \"samples\": [\n          \"/content/Data/Arimo 2.png\",\n          \"/content/Data/Arimo 4.png\",\n          \"/content/Data/Ubuntu 4.png\"\n        ],\n        \"semantic_type\": \"\",\n        \"description\": \"\"\n      }\n    },\n    {\n      \"column\": \"Image Name\",\n      \"properties\": {\n        \"dtype\": \"category\",\n        \"num_unique_values\": 10,\n        \"samples\": [\n          \"Dancing_Script\",\n          \"Open_Sans\",\n          \"Roboto\"\n        ],\n        \"semantic_type\": \"\",\n        \"description\": \"\"\n      }\n    },\n    {\n      \"column\": \"Image Id\",\n      \"properties\": {\n        \"dtype\": \"number\",\n        \"std\": 2,\n        \"min\": 0,\n        \"max\": 9,\n        \"num_unique_values\": 10,\n        \"samples\": [\n          8,\n          1,\n          5\n        ],\n        \"semantic_type\": \"\",\n        \"description\": \"\"\n      }\n    }\n  ]\n}"
            }
          },
          "metadata": {},
          "execution_count": 29
        }
      ]
    },
    {
      "cell_type": "code",
      "source": [
        "# Preprocess the images\n",
        "def preprocess_image(img_path):\n",
        "    img = load_img(img_path, target_size=(28, 200))\n",
        "    img_array = img_to_array(img)\n",
        "    img_array = img_array / 255.0  # Normalize pixel values\n",
        "    return img_array"
      ],
      "metadata": {
        "id": "MBBqUJsiOmD-"
      },
      "execution_count": null,
      "outputs": []
    },
    {
      "cell_type": "code",
      "source": [
        "df1['img_array'] = df1['Image Path'].apply(preprocess_image)\n",
        "\n",
        "# Prepare the data for the model\n",
        "X1 = np.stack(df1['img_array'].values)\n",
        "y1 = df1['Image Id'].values\n",
        "\n",
        "# Split the data into training and testing sets\n",
        "X1_train, X1_test, y1_train, y1_test = train_test_split(X1, y1, test_size=0.2, random_state=42)"
      ],
      "metadata": {
        "id": "wQ3061EAPcDp"
      },
      "execution_count": null,
      "outputs": []
    },
    {
      "cell_type": "code",
      "source": [
        "X1_test[0].shape"
      ],
      "metadata": {
        "colab": {
          "base_uri": "https://localhost:8080/"
        },
        "id": "GUc8ZyU9PfpS",
        "outputId": "ed9b474b-8391-4e7a-9577-e058795ed4fe"
      },
      "execution_count": null,
      "outputs": [
        {
          "output_type": "execute_result",
          "data": {
            "text/plain": [
              "(28, 200, 3)"
            ]
          },
          "metadata": {},
          "execution_count": 35
        }
      ]
    },
    {
      "cell_type": "code",
      "source": [
        "model_2 = Sequential([\n",
        "    Conv2D(32, (3, 3), activation='relu', input_shape=(28, 200, 3)),\n",
        "    BatchNormalization(),\n",
        "    MaxPooling2D((2,2)),\n",
        "    Dropout(0.25),\n",
        "    Conv2D(128, (3,3), activation='relu', padding='same'),\n",
        "    BatchNormalization(),\n",
        "    MaxPooling2D((2,2)),\n",
        "    Dropout(0.25),\n",
        "    Conv2D(256, (3,3), activation='relu', padding='same'),\n",
        "    BatchNormalization(),\n",
        "    MaxPooling2D((2,2)),\n",
        "    Dropout(0.25),\n",
        "    Flatten(),\n",
        "    Dense(512, activation='relu'),\n",
        "    BatchNormalization(),\n",
        "    Dropout(0.5),\n",
        "    Dense(256, activation='relu'),\n",
        "    BatchNormalization(),\n",
        "    Dropout(0.5),\n",
        "    Dense(128, activation='relu'),\n",
        "    BatchNormalization(),\n",
        "    Dropout(0.5),\n",
        "    Dense(32, activation='relu'),\n",
        "    Dense(11, activation='softmax')\n",
        "])\n",
        "opt = Adam(learning_rate=0.001)\n",
        "model_2.compile(optimizer=opt, loss='categorical_crossentropy', metrics=['accuracy'])\n",
        "model_2.summary()"
      ],
      "metadata": {
        "colab": {
          "base_uri": "https://localhost:8080/"
        },
        "collapsed": true,
        "id": "qJFFpH-7QEg6",
        "outputId": "36f5be01-ba60-4797-97c3-930e444dfa78"
      },
      "execution_count": null,
      "outputs": [
        {
          "output_type": "stream",
          "name": "stdout",
          "text": [
            "Model: \"sequential_1\"\n",
            "_________________________________________________________________\n",
            " Layer (type)                Output Shape              Param #   \n",
            "=================================================================\n",
            " conv2d_3 (Conv2D)           (None, 26, 198, 32)       896       \n",
            "                                                                 \n",
            " batch_normalization_6 (Bat  (None, 26, 198, 32)       128       \n",
            " chNormalization)                                                \n",
            "                                                                 \n",
            " max_pooling2d_3 (MaxPoolin  (None, 13, 99, 32)        0         \n",
            " g2D)                                                            \n",
            "                                                                 \n",
            " dropout_6 (Dropout)         (None, 13, 99, 32)        0         \n",
            "                                                                 \n",
            " conv2d_4 (Conv2D)           (None, 13, 99, 128)       36992     \n",
            "                                                                 \n",
            " batch_normalization_7 (Bat  (None, 13, 99, 128)       512       \n",
            " chNormalization)                                                \n",
            "                                                                 \n",
            " max_pooling2d_4 (MaxPoolin  (None, 6, 49, 128)        0         \n",
            " g2D)                                                            \n",
            "                                                                 \n",
            " dropout_7 (Dropout)         (None, 6, 49, 128)        0         \n",
            "                                                                 \n",
            " conv2d_5 (Conv2D)           (None, 6, 49, 256)        295168    \n",
            "                                                                 \n",
            " batch_normalization_8 (Bat  (None, 6, 49, 256)        1024      \n",
            " chNormalization)                                                \n",
            "                                                                 \n",
            " max_pooling2d_5 (MaxPoolin  (None, 3, 24, 256)        0         \n",
            " g2D)                                                            \n",
            "                                                                 \n",
            " dropout_8 (Dropout)         (None, 3, 24, 256)        0         \n",
            "                                                                 \n",
            " flatten_1 (Flatten)         (None, 18432)             0         \n",
            "                                                                 \n",
            " dense_5 (Dense)             (None, 512)               9437696   \n",
            "                                                                 \n",
            " batch_normalization_9 (Bat  (None, 512)               2048      \n",
            " chNormalization)                                                \n",
            "                                                                 \n",
            " dropout_9 (Dropout)         (None, 512)               0         \n",
            "                                                                 \n",
            " dense_6 (Dense)             (None, 256)               131328    \n",
            "                                                                 \n",
            " batch_normalization_10 (Ba  (None, 256)               1024      \n",
            " tchNormalization)                                               \n",
            "                                                                 \n",
            " dropout_10 (Dropout)        (None, 256)               0         \n",
            "                                                                 \n",
            " dense_7 (Dense)             (None, 128)               32896     \n",
            "                                                                 \n",
            " batch_normalization_11 (Ba  (None, 128)               512       \n",
            " tchNormalization)                                               \n",
            "                                                                 \n",
            " dropout_11 (Dropout)        (None, 128)               0         \n",
            "                                                                 \n",
            " dense_8 (Dense)             (None, 32)                4128      \n",
            "                                                                 \n",
            " dense_9 (Dense)             (None, 11)                363       \n",
            "                                                                 \n",
            "=================================================================\n",
            "Total params: 9944715 (37.94 MB)\n",
            "Trainable params: 9942091 (37.93 MB)\n",
            "Non-trainable params: 2624 (10.25 KB)\n",
            "_________________________________________________________________\n"
          ]
        }
      ]
    },
    {
      "cell_type": "code",
      "source": [
        "df1['img_array'] = df1['Image Path'].apply(preprocess_image)\n",
        "\n",
        "# Prepare the data for the model\n",
        "X1 = np.stack(df1['img_array'].values)\n",
        "y1 = df1['Image Id'].values\n",
        "\n",
        "# Split the data into training and testing sets\n",
        "X1_train, X1_test, y1_train, y1_test = train_test_split(X1, y1, test_size=0.2, random_state=42)"
      ],
      "metadata": {
        "id": "-s_K5ZosQoY-"
      },
      "execution_count": null,
      "outputs": []
    },
    {
      "cell_type": "code",
      "source": [
        "# Compile the model\n",
        "model_2.compile(optimizer='adam', loss='sparse_categorical_crossentropy', metrics=['accuracy'])\n",
        "\n",
        "# Train the model\n",
        "model_2.fit(X1_train, y1_train, epochs=100, validation_data=(X1_test, y1_test))\n",
        "\n",
        "# Evaluate the model\n",
        "loss, accuracy = model_2.evaluate(X1_test, y1_test)\n",
        "print(f\"Test Accuracy: {accuracy}\")"
      ],
      "metadata": {
        "colab": {
          "base_uri": "https://localhost:8080/"
        },
        "collapsed": true,
        "id": "0ojmBVnyP7JV",
        "outputId": "7c52b5d4-f197-4c94-d4b3-b380add24927"
      },
      "execution_count": null,
      "outputs": [
        {
          "output_type": "stream",
          "name": "stdout",
          "text": [
            "Epoch 1/100\n",
            "2/2 [==============================] - 4s 366ms/step - loss: 0.7534 - accuracy: 0.7568 - val_loss: 60.8246 - val_accuracy: 0.0000e+00\n",
            "Epoch 2/100\n",
            "2/2 [==============================] - 0s 69ms/step - loss: 0.8257 - accuracy: 0.7838 - val_loss: 58.4344 - val_accuracy: 0.0000e+00\n",
            "Epoch 3/100\n",
            "2/2 [==============================] - 0s 73ms/step - loss: 0.6299 - accuracy: 0.7297 - val_loss: 57.0348 - val_accuracy: 0.0000e+00\n",
            "Epoch 4/100\n",
            "2/2 [==============================] - 0s 62ms/step - loss: 0.7222 - accuracy: 0.8378 - val_loss: 55.1967 - val_accuracy: 0.0000e+00\n",
            "Epoch 5/100\n",
            "2/2 [==============================] - 0s 68ms/step - loss: 0.6301 - accuracy: 0.8649 - val_loss: 54.2426 - val_accuracy: 0.0000e+00\n",
            "Epoch 6/100\n",
            "2/2 [==============================] - 0s 68ms/step - loss: 0.8076 - accuracy: 0.7838 - val_loss: 54.3197 - val_accuracy: 0.0000e+00\n",
            "Epoch 7/100\n",
            "2/2 [==============================] - 0s 71ms/step - loss: 0.7237 - accuracy: 0.8378 - val_loss: 54.5207 - val_accuracy: 0.0000e+00\n",
            "Epoch 8/100\n",
            "2/2 [==============================] - 0s 69ms/step - loss: 0.5838 - accuracy: 0.8378 - val_loss: 53.4163 - val_accuracy: 0.0000e+00\n",
            "Epoch 9/100\n",
            "2/2 [==============================] - 0s 88ms/step - loss: 0.6172 - accuracy: 0.7838 - val_loss: 51.6395 - val_accuracy: 0.0000e+00\n",
            "Epoch 10/100\n",
            "2/2 [==============================] - 0s 64ms/step - loss: 0.8789 - accuracy: 0.7568 - val_loss: 50.5604 - val_accuracy: 0.0000e+00\n",
            "Epoch 11/100\n",
            "2/2 [==============================] - 0s 73ms/step - loss: 0.7052 - accuracy: 0.7838 - val_loss: 49.9306 - val_accuracy: 0.0000e+00\n",
            "Epoch 12/100\n",
            "2/2 [==============================] - 0s 63ms/step - loss: 0.4921 - accuracy: 0.8649 - val_loss: 48.2427 - val_accuracy: 0.0000e+00\n",
            "Epoch 13/100\n",
            "2/2 [==============================] - 0s 56ms/step - loss: 0.9114 - accuracy: 0.7297 - val_loss: 45.8982 - val_accuracy: 0.0000e+00\n",
            "Epoch 14/100\n",
            "2/2 [==============================] - 0s 86ms/step - loss: 0.6993 - accuracy: 0.7568 - val_loss: 43.1133 - val_accuracy: 0.0000e+00\n",
            "Epoch 15/100\n",
            "2/2 [==============================] - 0s 74ms/step - loss: 0.5469 - accuracy: 0.8649 - val_loss: 40.7378 - val_accuracy: 0.0000e+00\n",
            "Epoch 16/100\n",
            "2/2 [==============================] - 0s 75ms/step - loss: 0.5210 - accuracy: 0.8649 - val_loss: 38.8755 - val_accuracy: 0.0000e+00\n",
            "Epoch 17/100\n",
            "2/2 [==============================] - 0s 73ms/step - loss: 0.8278 - accuracy: 0.7297 - val_loss: 37.5917 - val_accuracy: 0.0000e+00\n",
            "Epoch 18/100\n",
            "2/2 [==============================] - 0s 79ms/step - loss: 0.4912 - accuracy: 0.8378 - val_loss: 36.7319 - val_accuracy: 0.0000e+00\n",
            "Epoch 19/100\n",
            "2/2 [==============================] - 0s 83ms/step - loss: 0.8419 - accuracy: 0.7568 - val_loss: 35.8034 - val_accuracy: 0.0000e+00\n",
            "Epoch 20/100\n",
            "2/2 [==============================] - 0s 75ms/step - loss: 0.7931 - accuracy: 0.8108 - val_loss: 34.3837 - val_accuracy: 0.0000e+00\n",
            "Epoch 21/100\n",
            "2/2 [==============================] - 0s 78ms/step - loss: 0.7348 - accuracy: 0.6757 - val_loss: 33.3202 - val_accuracy: 0.0000e+00\n",
            "Epoch 22/100\n",
            "2/2 [==============================] - 0s 79ms/step - loss: 0.4838 - accuracy: 0.8378 - val_loss: 33.3776 - val_accuracy: 0.0000e+00\n",
            "Epoch 23/100\n",
            "2/2 [==============================] - 0s 80ms/step - loss: 0.6430 - accuracy: 0.8108 - val_loss: 33.4213 - val_accuracy: 0.0000e+00\n",
            "Epoch 24/100\n",
            "2/2 [==============================] - 0s 75ms/step - loss: 0.6676 - accuracy: 0.8108 - val_loss: 32.5085 - val_accuracy: 0.0000e+00\n",
            "Epoch 25/100\n",
            "2/2 [==============================] - 0s 79ms/step - loss: 0.7005 - accuracy: 0.7838 - val_loss: 31.1240 - val_accuracy: 0.0000e+00\n",
            "Epoch 26/100\n",
            "2/2 [==============================] - 0s 88ms/step - loss: 0.9461 - accuracy: 0.7027 - val_loss: 27.7133 - val_accuracy: 0.0000e+00\n",
            "Epoch 27/100\n",
            "2/2 [==============================] - 0s 78ms/step - loss: 0.6610 - accuracy: 0.7838 - val_loss: 21.2146 - val_accuracy: 0.0000e+00\n",
            "Epoch 28/100\n",
            "2/2 [==============================] - 0s 83ms/step - loss: 0.5867 - accuracy: 0.8108 - val_loss: 19.0681 - val_accuracy: 0.1000\n",
            "Epoch 29/100\n",
            "2/2 [==============================] - 0s 72ms/step - loss: 0.8071 - accuracy: 0.7297 - val_loss: 20.9848 - val_accuracy: 0.3000\n",
            "Epoch 30/100\n",
            "2/2 [==============================] - 0s 65ms/step - loss: 0.6535 - accuracy: 0.7838 - val_loss: 22.1301 - val_accuracy: 0.3000\n",
            "Epoch 31/100\n",
            "2/2 [==============================] - 0s 69ms/step - loss: 0.5465 - accuracy: 0.8378 - val_loss: 22.4574 - val_accuracy: 0.3000\n",
            "Epoch 32/100\n",
            "2/2 [==============================] - 0s 74ms/step - loss: 0.4256 - accuracy: 0.7838 - val_loss: 22.5316 - val_accuracy: 0.3000\n",
            "Epoch 33/100\n",
            "2/2 [==============================] - 0s 74ms/step - loss: 0.4907 - accuracy: 0.8649 - val_loss: 22.5465 - val_accuracy: 0.3000\n",
            "Epoch 34/100\n",
            "2/2 [==============================] - 0s 66ms/step - loss: 0.4649 - accuracy: 0.8919 - val_loss: 22.4301 - val_accuracy: 0.3000\n",
            "Epoch 35/100\n",
            "2/2 [==============================] - 0s 95ms/step - loss: 0.5682 - accuracy: 0.8378 - val_loss: 22.1372 - val_accuracy: 0.3000\n",
            "Epoch 36/100\n",
            "2/2 [==============================] - 0s 78ms/step - loss: 0.6235 - accuracy: 0.7838 - val_loss: 22.0561 - val_accuracy: 0.3000\n",
            "Epoch 37/100\n",
            "2/2 [==============================] - 0s 74ms/step - loss: 0.4238 - accuracy: 0.8649 - val_loss: 21.7275 - val_accuracy: 0.3000\n",
            "Epoch 38/100\n",
            "2/2 [==============================] - 0s 79ms/step - loss: 0.5347 - accuracy: 0.8108 - val_loss: 21.1411 - val_accuracy: 0.3000\n",
            "Epoch 39/100\n",
            "2/2 [==============================] - 0s 83ms/step - loss: 0.4539 - accuracy: 0.8649 - val_loss: 20.3851 - val_accuracy: 0.3000\n",
            "Epoch 40/100\n",
            "2/2 [==============================] - 0s 75ms/step - loss: 0.4530 - accuracy: 0.8649 - val_loss: 18.3747 - val_accuracy: 0.2000\n",
            "Epoch 41/100\n",
            "2/2 [==============================] - 0s 76ms/step - loss: 0.5530 - accuracy: 0.8378 - val_loss: 15.7368 - val_accuracy: 0.2000\n",
            "Epoch 42/100\n",
            "2/2 [==============================] - 0s 78ms/step - loss: 0.4323 - accuracy: 0.8378 - val_loss: 16.3026 - val_accuracy: 0.3000\n",
            "Epoch 43/100\n",
            "2/2 [==============================] - 0s 93ms/step - loss: 0.5847 - accuracy: 0.8108 - val_loss: 16.4278 - val_accuracy: 0.3000\n",
            "Epoch 44/100\n",
            "2/2 [==============================] - 0s 85ms/step - loss: 0.4582 - accuracy: 0.8919 - val_loss: 15.9968 - val_accuracy: 0.2000\n",
            "Epoch 45/100\n",
            "2/2 [==============================] - 0s 78ms/step - loss: 0.5418 - accuracy: 0.8108 - val_loss: 15.8882 - val_accuracy: 0.2000\n",
            "Epoch 46/100\n",
            "2/2 [==============================] - 0s 64ms/step - loss: 0.5306 - accuracy: 0.7568 - val_loss: 15.9351 - val_accuracy: 0.1000\n",
            "Epoch 47/100\n",
            "2/2 [==============================] - 0s 70ms/step - loss: 0.3024 - accuracy: 0.9730 - val_loss: 16.4967 - val_accuracy: 0.0000e+00\n",
            "Epoch 48/100\n",
            "2/2 [==============================] - 0s 72ms/step - loss: 0.4050 - accuracy: 0.8919 - val_loss: 17.2997 - val_accuracy: 0.0000e+00\n",
            "Epoch 49/100\n",
            "2/2 [==============================] - 0s 71ms/step - loss: 0.4337 - accuracy: 0.8919 - val_loss: 17.7292 - val_accuracy: 0.0000e+00\n",
            "Epoch 50/100\n",
            "2/2 [==============================] - 0s 71ms/step - loss: 0.4092 - accuracy: 0.8649 - val_loss: 19.1073 - val_accuracy: 0.0000e+00\n",
            "Epoch 51/100\n",
            "2/2 [==============================] - 0s 73ms/step - loss: 0.2899 - accuracy: 0.9189 - val_loss: 20.4165 - val_accuracy: 0.0000e+00\n",
            "Epoch 52/100\n",
            "2/2 [==============================] - 0s 91ms/step - loss: 0.3017 - accuracy: 0.8919 - val_loss: 20.6866 - val_accuracy: 0.0000e+00\n",
            "Epoch 53/100\n",
            "2/2 [==============================] - 0s 72ms/step - loss: 0.3129 - accuracy: 0.9189 - val_loss: 20.6649 - val_accuracy: 0.0000e+00\n",
            "Epoch 54/100\n",
            "2/2 [==============================] - 0s 60ms/step - loss: 0.5773 - accuracy: 0.8108 - val_loss: 21.0326 - val_accuracy: 0.0000e+00\n",
            "Epoch 55/100\n",
            "2/2 [==============================] - 0s 60ms/step - loss: 0.4277 - accuracy: 0.9189 - val_loss: 21.5306 - val_accuracy: 0.0000e+00\n",
            "Epoch 56/100\n",
            "2/2 [==============================] - 0s 71ms/step - loss: 0.4751 - accuracy: 0.8108 - val_loss: 22.8445 - val_accuracy: 0.0000e+00\n",
            "Epoch 57/100\n",
            "2/2 [==============================] - 0s 71ms/step - loss: 0.3709 - accuracy: 0.9189 - val_loss: 23.9667 - val_accuracy: 0.0000e+00\n",
            "Epoch 58/100\n",
            "2/2 [==============================] - 0s 72ms/step - loss: 0.3071 - accuracy: 0.8919 - val_loss: 24.7013 - val_accuracy: 0.0000e+00\n",
            "Epoch 59/100\n",
            "2/2 [==============================] - 0s 68ms/step - loss: 0.4366 - accuracy: 0.8919 - val_loss: 25.3683 - val_accuracy: 0.0000e+00\n",
            "Epoch 60/100\n",
            "2/2 [==============================] - 0s 72ms/step - loss: 0.4923 - accuracy: 0.8378 - val_loss: 26.0359 - val_accuracy: 0.0000e+00\n",
            "Epoch 61/100\n",
            "2/2 [==============================] - 0s 94ms/step - loss: 0.4114 - accuracy: 0.8378 - val_loss: 26.9990 - val_accuracy: 0.0000e+00\n",
            "Epoch 62/100\n",
            "2/2 [==============================] - 0s 74ms/step - loss: 0.6350 - accuracy: 0.7297 - val_loss: 27.9958 - val_accuracy: 0.0000e+00\n",
            "Epoch 63/100\n",
            "2/2 [==============================] - 0s 74ms/step - loss: 0.2795 - accuracy: 0.9189 - val_loss: 28.8336 - val_accuracy: 0.0000e+00\n",
            "Epoch 64/100\n",
            "2/2 [==============================] - 0s 76ms/step - loss: 0.5009 - accuracy: 0.7568 - val_loss: 29.7028 - val_accuracy: 0.0000e+00\n",
            "Epoch 65/100\n",
            "2/2 [==============================] - 0s 76ms/step - loss: 0.3234 - accuracy: 0.9459 - val_loss: 30.7280 - val_accuracy: 0.0000e+00\n",
            "Epoch 66/100\n",
            "2/2 [==============================] - 0s 79ms/step - loss: 0.6855 - accuracy: 0.8108 - val_loss: 31.8719 - val_accuracy: 0.0000e+00\n",
            "Epoch 67/100\n",
            "2/2 [==============================] - 0s 74ms/step - loss: 0.3533 - accuracy: 0.8649 - val_loss: 33.1105 - val_accuracy: 0.0000e+00\n",
            "Epoch 68/100\n",
            "2/2 [==============================] - 0s 50ms/step - loss: 0.3958 - accuracy: 0.8919 - val_loss: 35.1607 - val_accuracy: 0.0000e+00\n",
            "Epoch 69/100\n",
            "2/2 [==============================] - 0s 43ms/step - loss: 0.3987 - accuracy: 0.8919 - val_loss: 36.3753 - val_accuracy: 0.0000e+00\n",
            "Epoch 70/100\n",
            "2/2 [==============================] - 0s 67ms/step - loss: 0.2588 - accuracy: 0.9459 - val_loss: 36.8439 - val_accuracy: 0.0000e+00\n",
            "Epoch 71/100\n",
            "2/2 [==============================] - 0s 43ms/step - loss: 0.4474 - accuracy: 0.8919 - val_loss: 37.0622 - val_accuracy: 0.0000e+00\n",
            "Epoch 72/100\n",
            "2/2 [==============================] - 0s 40ms/step - loss: 0.2856 - accuracy: 0.9189 - val_loss: 36.4726 - val_accuracy: 0.0000e+00\n",
            "Epoch 73/100\n",
            "2/2 [==============================] - 0s 42ms/step - loss: 0.4963 - accuracy: 0.8919 - val_loss: 35.0588 - val_accuracy: 0.0000e+00\n",
            "Epoch 74/100\n",
            "2/2 [==============================] - 0s 39ms/step - loss: 0.3901 - accuracy: 0.8649 - val_loss: 33.7594 - val_accuracy: 0.0000e+00\n",
            "Epoch 75/100\n",
            "2/2 [==============================] - 0s 41ms/step - loss: 0.3809 - accuracy: 0.9189 - val_loss: 33.8887 - val_accuracy: 0.0000e+00\n",
            "Epoch 76/100\n",
            "2/2 [==============================] - 0s 55ms/step - loss: 0.4896 - accuracy: 0.8649 - val_loss: 35.5739 - val_accuracy: 0.0000e+00\n",
            "Epoch 77/100\n",
            "2/2 [==============================] - 0s 40ms/step - loss: 0.2613 - accuracy: 0.9459 - val_loss: 36.6859 - val_accuracy: 0.0000e+00\n",
            "Epoch 78/100\n",
            "2/2 [==============================] - 0s 68ms/step - loss: 0.2853 - accuracy: 0.9459 - val_loss: 37.8255 - val_accuracy: 0.0000e+00\n",
            "Epoch 79/100\n",
            "2/2 [==============================] - 0s 42ms/step - loss: 0.3888 - accuracy: 0.8919 - val_loss: 39.4139 - val_accuracy: 0.0000e+00\n",
            "Epoch 80/100\n",
            "2/2 [==============================] - 0s 41ms/step - loss: 0.3737 - accuracy: 0.8919 - val_loss: 41.2231 - val_accuracy: 0.0000e+00\n",
            "Epoch 81/100\n",
            "2/2 [==============================] - 0s 43ms/step - loss: 0.4584 - accuracy: 0.8649 - val_loss: 42.1471 - val_accuracy: 0.0000e+00\n",
            "Epoch 82/100\n",
            "2/2 [==============================] - 0s 51ms/step - loss: 0.3572 - accuracy: 0.8378 - val_loss: 42.3110 - val_accuracy: 0.0000e+00\n",
            "Epoch 83/100\n",
            "2/2 [==============================] - 0s 52ms/step - loss: 0.3023 - accuracy: 0.9189 - val_loss: 41.3682 - val_accuracy: 0.0000e+00\n",
            "Epoch 84/100\n",
            "2/2 [==============================] - 0s 41ms/step - loss: 0.2958 - accuracy: 0.8919 - val_loss: 40.0206 - val_accuracy: 0.0000e+00\n",
            "Epoch 85/100\n",
            "2/2 [==============================] - 0s 41ms/step - loss: 0.4430 - accuracy: 0.8649 - val_loss: 38.9151 - val_accuracy: 0.0000e+00\n",
            "Epoch 86/100\n",
            "2/2 [==============================] - 0s 41ms/step - loss: 0.3185 - accuracy: 0.8919 - val_loss: 37.9217 - val_accuracy: 0.0000e+00\n",
            "Epoch 87/100\n",
            "2/2 [==============================] - 0s 44ms/step - loss: 0.3181 - accuracy: 0.8919 - val_loss: 36.0569 - val_accuracy: 0.0000e+00\n",
            "Epoch 88/100\n",
            "2/2 [==============================] - 0s 39ms/step - loss: 0.5175 - accuracy: 0.8919 - val_loss: 33.4679 - val_accuracy: 0.0000e+00\n",
            "Epoch 89/100\n",
            "2/2 [==============================] - 0s 40ms/step - loss: 0.3485 - accuracy: 0.8919 - val_loss: 28.7137 - val_accuracy: 0.0000e+00\n",
            "Epoch 90/100\n",
            "2/2 [==============================] - 0s 41ms/step - loss: 0.2736 - accuracy: 0.8919 - val_loss: 23.6438 - val_accuracy: 0.0000e+00\n",
            "Epoch 91/100\n",
            "2/2 [==============================] - 0s 55ms/step - loss: 0.3696 - accuracy: 0.9189 - val_loss: 19.9776 - val_accuracy: 0.0000e+00\n",
            "Epoch 92/100\n",
            "2/2 [==============================] - 0s 43ms/step - loss: 0.2787 - accuracy: 0.8919 - val_loss: 17.5280 - val_accuracy: 0.0000e+00\n",
            "Epoch 93/100\n",
            "2/2 [==============================] - 0s 39ms/step - loss: 0.2626 - accuracy: 0.9189 - val_loss: 15.8957 - val_accuracy: 0.0000e+00\n",
            "Epoch 94/100\n",
            "2/2 [==============================] - 0s 48ms/step - loss: 0.3123 - accuracy: 0.9189 - val_loss: 13.8792 - val_accuracy: 0.0000e+00\n",
            "Epoch 95/100\n",
            "2/2 [==============================] - 0s 50ms/step - loss: 0.4085 - accuracy: 0.8919 - val_loss: 11.3205 - val_accuracy: 0.0000e+00\n",
            "Epoch 96/100\n",
            "2/2 [==============================] - 0s 64ms/step - loss: 0.3464 - accuracy: 0.8919 - val_loss: 10.1030 - val_accuracy: 0.0000e+00\n",
            "Epoch 97/100\n",
            "2/2 [==============================] - 0s 42ms/step - loss: 0.2894 - accuracy: 0.8919 - val_loss: 9.4350 - val_accuracy: 0.0000e+00\n",
            "Epoch 98/100\n",
            "2/2 [==============================] - 0s 41ms/step - loss: 0.2479 - accuracy: 0.9730 - val_loss: 9.5336 - val_accuracy: 0.0000e+00\n",
            "Epoch 99/100\n",
            "2/2 [==============================] - 0s 40ms/step - loss: 0.2257 - accuracy: 1.0000 - val_loss: 8.9118 - val_accuracy: 0.0000e+00\n",
            "Epoch 100/100\n",
            "2/2 [==============================] - 0s 43ms/step - loss: 0.4308 - accuracy: 0.8649 - val_loss: 9.1095 - val_accuracy: 0.0000e+00\n",
            "1/1 [==============================] - 0s 26ms/step - loss: 9.1095 - accuracy: 0.0000e+00\n",
            "Test Accuracy: 0.0\n"
          ]
        }
      ]
    },
    {
      "cell_type": "code",
      "source": [
        "def resize_image_array(img_array):\n",
        "    \"\"\"\n",
        "    Resize a 2D image array to (1, 28, 28) shape.\n",
        "\n",
        "    Args:\n",
        "        img_array: 2D image array of any shape\n",
        "\n",
        "    Returns:\n",
        "        Resized image array of shape (1, 28, 28)\n",
        "    \"\"\"\n",
        "    # Convert the image array to grayscale\n",
        "    gray_img = cv2.cvtColor(img_array, cv2.COLOR_RGB2GRAY) if len(img_array.shape) == 3 else img_array\n",
        "\n",
        "    # Resize the image to 28x28 using OpenCV\n",
        "    resized_img = cv2.resize(gray_img, (28, 28))\n",
        "\n",
        "    # Add a batch dimension (1) to the beginning\n",
        "    resized_img = resized_img.reshape((1, 28, 28))\n",
        "\n",
        "    return resized_img"
      ],
      "metadata": {
        "id": "i-GviWjOP9FR"
      },
      "execution_count": null,
      "outputs": []
    },
    {
      "cell_type": "code",
      "source": [
        "def image_chunks(path):\n",
        "  # Load the image from Google Drive\n",
        "  img = cv2.imread(path)\n",
        "  # Convert the image to grayscale\n",
        "  gray = cv2.cvtColor(img, cv2.COLOR_BGR2GRAY)\n",
        "\n",
        "  # Threshold the image to segment out black features\n",
        "  _, thresh = cv2.threshold(gray, 0, 255, cv2.THRESH_BINARY_INV + cv2.THRESH_OTSU)\n",
        "\n",
        "  # Find contours in the thresholded image\n",
        "  contours, _ = cv2.findContours(thresh, cv2.RETR_EXTERNAL, cv2.CHAIN_APPROX_SIMPLE)\n",
        "\n",
        "  # Create a list to store the bounding box coordinates\n",
        "  boxes = []\n",
        "\n",
        "  # Iterate through the contours and draw a bounding box around each one\n",
        "  for contour in contours:\n",
        "      rect = cv2.minAreaRect(contour)\n",
        "      box = cv2.boxPoints(rect)\n",
        "      box = np.int0(box)\n",
        "      cv2.drawContours(img, [box], 0, (0, 255, 0), 2)\n",
        "      x, y, w, h = cv2.boundingRect(box)\n",
        "      boxes.append((x, y, x+w, y+h))\n",
        "\n",
        "\n",
        "  # Display the output\n",
        "  cv2_imshow(img)\n",
        "\n",
        "  H_corrdinate=[]\n",
        "  d_corrdinate=[]\n",
        "\n",
        "  for i, box in enumerate(boxes):\n",
        "      x, y, w, h = box\n",
        "      cropped_img = img[y:h, x:w]\n",
        "      cv2_imshow(cropped_img)\n",
        "      # Convert the cropped image to a NumPy array\n",
        "      cropped_img_array = np.array(cropped_img)\n",
        "      gray_img = resize_image_array(cropped_img_array)\n",
        "      gray_img=~gray_img\n",
        "      index=model.predict(gray_img)\n",
        "      letter = class_labels[np.argmax(index)]\n",
        "      if letter[0] == \"H\":\n",
        "        H_corrdinate.append((x,y,w,h))\n",
        "      elif letter[0] == \"d\":\n",
        "        d_corrdinate.append((x,y,w,h))\n",
        "      print(letter)\n",
        "\n",
        "  crp_corrdinate=[]\n",
        "  for i in H_corrdinate:\n",
        "    x, y, w, h = i\n",
        "    for j in d_corrdinate:\n",
        "      x1, y1, w1, h1 = j\n",
        "      if h == h1:\n",
        "        crp_corrdinate.append((x,y,w1,h1))\n",
        "        break\n",
        "\n",
        "  img_1 = cv2.imread(path)\n",
        "  cropped_img=[]\n",
        "\n",
        "  for box in crp_corrdinate:\n",
        "      x, y, w, h = box\n",
        "      cropped_img.append(img_1[y:h, x:w])\n",
        "\n",
        "  return img, crp_corrdinate"
      ],
      "metadata": {
        "id": "D40VhuY8Q1aK"
      },
      "execution_count": null,
      "outputs": []
    },
    {
      "cell_type": "code",
      "source": [
        "path='/content/Screenshot 2024-07-14 141746.png'\n",
        "bounded,crp_corrdinate = image_chunks(path)"
      ],
      "metadata": {
        "colab": {
          "base_uri": "https://localhost:8080/",
          "height": 1000
        },
        "collapsed": true,
        "id": "1SF673mwSK7H",
        "outputId": "7623b124-ce39-45a0-f2c4-29cc22bdebfc"
      },
      "execution_count": null,
      "outputs": [
        {
          "output_type": "stream",
          "name": "stderr",
          "text": [
            "<ipython-input-78-7338fe524ce9>:20: DeprecationWarning: `np.int0` is a deprecated alias for `np.intp`.  (Deprecated NumPy 1.24)\n",
            "  box = np.int0(box)\n"
          ]
        },
        {
          "output_type": "display_data",
          "data": {
            "text/plain": [
              "<PIL.Image.Image image mode=RGB size=774x318>"
            ],
            "image/png": "[encoded data removed]"
          },
          "metadata": {}
        },
        {
          "output_type": "display_data",
          "data": {
            "text/plain": [
              "<PIL.Image.Image image mode=RGB size=6x6>"
            ],
            "image/png": "[encoded data removed]"
          },
          "metadata": {}
        },
        {
          "output_type": "stream",
          "name": "stdout",
          "text": [
            "1/1 [==============================] - 0s 36ms/step\n",
            "o\n"
          ]
        },
        {
          "output_type": "display_data",
          "data": {
            "text/plain": [
              "<PIL.Image.Image image mode=RGB size=11x18>"
            ],
            "image/png": "[encoded data removed]"
          },
          "metadata": {}
        },
        {
          "output_type": "stream",
          "name": "stdout",
          "text": [
            "1/1 [==============================] - 0s 32ms/step\n",
            "o\n"
          ]
        },
        {
          "output_type": "display_data",
          "data": {
            "text/plain": [
              "<PIL.Image.Image image mode=RGB size=8x7>"
            ],
            "image/png": "[encoded data removed]"
          },
          "metadata": {}
        },
        {
          "output_type": "stream",
          "name": "stdout",
          "text": [
            "1/1 [==============================] - 0s 28ms/step\n",
            "o\n"
          ]
        },
        {
          "output_type": "display_data",
          "data": {
            "text/plain": [
              "<PIL.Image.Image image mode=RGB size=10x7>"
            ],
            "image/png": "[encoded data removed]"
          },
          "metadata": {}
        },
        {
          "output_type": "stream",
          "name": "stdout",
          "text": [
            "1/1 [==============================] - 0s 19ms/step\n",
            "o\n"
          ]
        },
        {
          "output_type": "display_data",
          "data": {
            "text/plain": [
              "<PIL.Image.Image image mode=RGB size=8x10>"
            ],
            "image/png": "[encoded data removed]"
          },
          "metadata": {}
        },
        {
          "output_type": "stream",
          "name": "stdout",
          "text": [
            "1/1 [==============================] - 0s 17ms/step\n",
            "o\n"
          ]
        },
        {
          "output_type": "display_data",
          "data": {
            "text/plain": [
              "<PIL.Image.Image image mode=RGB size=11x11>"
            ],
            "image/png": "[encoded data removed]"
          },
          "metadata": {}
        },
        {
          "output_type": "stream",
          "name": "stdout",
          "text": [
            "1/1 [==============================] - 0s 21ms/step\n",
            "o\n"
          ]
        },
        {
          "output_type": "display_data",
          "data": {
            "text/plain": [
              "<PIL.Image.Image image mode=RGB size=17x23>"
            ],
            "image/png": "[encoded data removed]"
          },
          "metadata": {}
        },
        {
          "output_type": "stream",
          "name": "stdout",
          "text": [
            "1/1 [==============================] - 0s 22ms/step\n",
            "o\n"
          ]
        },
        {
          "output_type": "display_data",
          "data": {
            "text/plain": [
              "<PIL.Image.Image image mode=RGB size=27x23>"
            ],
            "image/png": "[encoded data removed]"
          },
          "metadata": {}
        },
        {
          "output_type": "stream",
          "name": "stdout",
          "text": [
            "1/1 [==============================] - 0s 19ms/step\n",
            "o\n"
          ]
        },
        {
          "output_type": "display_data",
          "data": {
            "text/plain": [
              "<PIL.Image.Image image mode=RGB size=27x23>"
            ],
            "image/png": "[encoded data removed]"
          },
          "metadata": {}
        },
        {
          "output_type": "stream",
          "name": "stdout",
          "text": [
            "1/1 [==============================] - 0s 19ms/step\n",
            "o\n"
          ]
        },
        {
          "output_type": "display_data",
          "data": {
            "text/plain": [
              "<PIL.Image.Image image mode=RGB size=33x33>"
            ],
            "image/png": "[encoded data removed]"
          },
          "metadata": {}
        },
        {
          "output_type": "stream",
          "name": "stdout",
          "text": [
            "1/1 [==============================] - 0s 24ms/step\n",
            "W\n"
          ]
        },
        {
          "output_type": "display_data",
          "data": {
            "text/plain": [
              "<PIL.Image.Image image mode=RGB size=18x31>"
            ],
            "image/png": "[encoded data removed]"
          },
          "metadata": {}
        },
        {
          "output_type": "stream",
          "name": "stdout",
          "text": [
            "1/1 [==============================] - 0s 18ms/step\n",
            "o\n"
          ]
        },
        {
          "output_type": "display_data",
          "data": {
            "text/plain": [
              "<PIL.Image.Image image mode=RGB size=23x30>"
            ],
            "image/png": "[encoded data removed]"
          },
          "metadata": {}
        },
        {
          "output_type": "stream",
          "name": "stdout",
          "text": [
            "1/1 [==============================] - 0s 18ms/step\n",
            "o\n"
          ]
        },
        {
          "output_type": "display_data",
          "data": {
            "text/plain": [
              "<PIL.Image.Image image mode=RGB size=22x30>"
            ],
            "image/png": "[encoded data removed]"
          },
          "metadata": {}
        },
        {
          "output_type": "stream",
          "name": "stdout",
          "text": [
            "1/1 [==============================] - 0s 17ms/step\n",
            "o\n"
          ]
        },
        {
          "output_type": "display_data",
          "data": {
            "text/plain": [
              "<PIL.Image.Image image mode=RGB size=22x30>"
            ],
            "image/png": "[encoded data removed]"
          },
          "metadata": {}
        },
        {
          "output_type": "stream",
          "name": "stdout",
          "text": [
            "1/1 [==============================] - 0s 18ms/step\n",
            "l\n"
          ]
        },
        {
          "output_type": "display_data",
          "data": {
            "text/plain": [
              "<PIL.Image.Image image mode=RGB size=7x23>"
            ],
            "image/png": "[encoded data removed]"
          },
          "metadata": {}
        },
        {
          "output_type": "stream",
          "name": "stdout",
          "text": [
            "1/1 [==============================] - 0s 19ms/step\n",
            "o\n"
          ]
        },
        {
          "output_type": "display_data",
          "data": {
            "text/plain": [
              "<PIL.Image.Image image mode=RGB size=30x36>"
            ],
            "image/png": "[encoded data removed]"
          },
          "metadata": {}
        },
        {
          "output_type": "stream",
          "name": "stdout",
          "text": [
            "1/1 [==============================] - 0s 17ms/step\n",
            "l\n"
          ]
        },
        {
          "output_type": "display_data",
          "data": {
            "text/plain": [
              "<PIL.Image.Image image mode=RGB size=15x36>"
            ],
            "image/png": "[encoded data removed]"
          },
          "metadata": {}
        },
        {
          "output_type": "stream",
          "name": "stdout",
          "text": [
            "1/1 [==============================] - 0s 17ms/step\n",
            "o\n"
          ]
        },
        {
          "output_type": "display_data",
          "data": {
            "text/plain": [
              "<PIL.Image.Image image mode=RGB size=60x35>"
            ],
            "image/png": "[encoded data removed]"
          },
          "metadata": {}
        },
        {
          "output_type": "stream",
          "name": "stdout",
          "text": [
            "1/1 [==============================] - 0s 18ms/step\n",
            "o\n"
          ]
        },
        {
          "output_type": "display_data",
          "data": {
            "text/plain": [
              "<PIL.Image.Image image mode=RGB size=16x36>"
            ],
            "image/png": "[encoded data removed]"
          },
          "metadata": {}
        },
        {
          "output_type": "stream",
          "name": "stdout",
          "text": [
            "1/1 [==============================] - 0s 22ms/step\n",
            "o\n"
          ]
        },
        {
          "output_type": "display_data",
          "data": {
            "text/plain": [
              "<PIL.Image.Image image mode=RGB size=15x36>"
            ],
            "image/png": "[encoded data removed]"
          },
          "metadata": {}
        },
        {
          "output_type": "stream",
          "name": "stdout",
          "text": [
            "1/1 [==============================] - 0s 22ms/step\n",
            "o\n"
          ]
        },
        {
          "output_type": "display_data",
          "data": {
            "text/plain": [
              "<PIL.Image.Image image mode=RGB size=47x36>"
            ],
            "image/png": "[encoded data removed]"
          },
          "metadata": {}
        },
        {
          "output_type": "stream",
          "name": "stdout",
          "text": [
            "1/1 [==============================] - 0s 22ms/step\n",
            "l\n"
          ]
        },
        {
          "output_type": "display_data",
          "data": {
            "text/plain": [
              "<PIL.Image.Image image mode=RGB size=6x26>"
            ],
            "image/png": "[encoded data removed]"
          },
          "metadata": {}
        },
        {
          "output_type": "stream",
          "name": "stdout",
          "text": [
            "1/1 [==============================] - 0s 17ms/step\n",
            "o\n"
          ]
        },
        {
          "output_type": "display_data",
          "data": {
            "text/plain": [
              "<PIL.Image.Image image mode=RGB size=37x41>"
            ],
            "image/png": "[encoded data removed]"
          },
          "metadata": {}
        },
        {
          "output_type": "stream",
          "name": "stdout",
          "text": [
            "1/1 [==============================] - 0s 18ms/step\n",
            "o\n"
          ]
        },
        {
          "output_type": "display_data",
          "data": {
            "text/plain": [
              "<PIL.Image.Image image mode=RGB size=24x41>"
            ],
            "image/png": "[encoded data removed]"
          },
          "metadata": {}
        },
        {
          "output_type": "stream",
          "name": "stdout",
          "text": [
            "1/1 [==============================] - 0s 19ms/step\n",
            "l\n"
          ]
        },
        {
          "output_type": "display_data",
          "data": {
            "text/plain": [
              "<PIL.Image.Image image mode=RGB size=24x43>"
            ],
            "image/png": "[encoded data removed]"
          },
          "metadata": {}
        },
        {
          "output_type": "stream",
          "name": "stdout",
          "text": [
            "1/1 [==============================] - 0s 21ms/step\n",
            ",\n"
          ]
        },
        {
          "output_type": "display_data",
          "data": {
            "text/plain": [
              "<PIL.Image.Image image mode=RGB size=17x44>"
            ],
            "image/png": "[encoded data removed]"
          },
          "metadata": {}
        },
        {
          "output_type": "stream",
          "name": "stdout",
          "text": [
            "1/1 [==============================] - 0s 20ms/step\n",
            "r\n"
          ]
        },
        {
          "output_type": "display_data",
          "data": {
            "text/plain": [
              "<PIL.Image.Image image mode=RGB size=17x44>"
            ],
            "image/png": "[encoded data removed]"
          },
          "metadata": {}
        },
        {
          "output_type": "stream",
          "name": "stdout",
          "text": [
            "1/1 [==============================] - 0s 17ms/step\n",
            "r\n"
          ]
        },
        {
          "output_type": "display_data",
          "data": {
            "text/plain": [
              "<PIL.Image.Image image mode=RGB size=17x44>"
            ],
            "image/png": "[encoded data removed]"
          },
          "metadata": {}
        },
        {
          "output_type": "stream",
          "name": "stdout",
          "text": [
            "1/1 [==============================] - 0s 17ms/step\n",
            "o\n"
          ]
        },
        {
          "output_type": "display_data",
          "data": {
            "text/plain": [
              "<PIL.Image.Image image mode=RGB size=6x5>"
            ],
            "image/png": "[encoded data removed]"
          },
          "metadata": {}
        },
        {
          "output_type": "stream",
          "name": "stdout",
          "text": [
            "1/1 [==============================] - 0s 18ms/step\n",
            "o\n"
          ]
        },
        {
          "output_type": "display_data",
          "data": {
            "text/plain": [
              "<PIL.Image.Image image mode=RGB size=7x10>"
            ],
            "image/png": "[encoded data removed]"
          },
          "metadata": {}
        },
        {
          "output_type": "stream",
          "name": "stdout",
          "text": [
            "1/1 [==============================] - 0s 18ms/step\n",
            "o\n"
          ]
        },
        {
          "output_type": "display_data",
          "data": {
            "text/plain": [
              "<PIL.Image.Image image mode=RGB size=6x4>"
            ],
            "image/png": "[encoded data removed]"
          },
          "metadata": {}
        },
        {
          "output_type": "stream",
          "name": "stdout",
          "text": [
            "1/1 [==============================] - 0s 19ms/step\n",
            "o\n"
          ]
        },
        {
          "output_type": "display_data",
          "data": {
            "text/plain": [
              "<PIL.Image.Image image mode=RGB size=7x10>"
            ],
            "image/png": "[encoded data removed]"
          },
          "metadata": {}
        },
        {
          "output_type": "stream",
          "name": "stdout",
          "text": [
            "1/1 [==============================] - 0s 24ms/step\n",
            "o\n"
          ]
        },
        {
          "output_type": "display_data",
          "data": {
            "text/plain": [
              "<PIL.Image.Image image mode=RGB size=16x18>"
            ],
            "image/png": "[encoded data removed]"
          },
          "metadata": {}
        },
        {
          "output_type": "stream",
          "name": "stdout",
          "text": [
            "1/1 [==============================] - 0s 25ms/step\n",
            "o\n"
          ]
        },
        {
          "output_type": "display_data",
          "data": {
            "text/plain": [
              "<PIL.Image.Image image mode=RGB size=22x18>"
            ],
            "image/png": "[encoded data removed]"
          },
          "metadata": {}
        },
        {
          "output_type": "stream",
          "name": "stdout",
          "text": [
            "1/1 [==============================] - 0s 21ms/step\n",
            "o\n"
          ]
        },
        {
          "output_type": "display_data",
          "data": {
            "text/plain": [
              "<PIL.Image.Image image mode=RGB size=23x18>"
            ],
            "image/png": "[encoded data removed]"
          },
          "metadata": {}
        },
        {
          "output_type": "stream",
          "name": "stdout",
          "text": [
            "1/1 [==============================] - 0s 20ms/step\n",
            "o\n"
          ]
        },
        {
          "output_type": "display_data",
          "data": {
            "text/plain": [
              "<PIL.Image.Image image mode=RGB size=20x18>"
            ],
            "image/png": "[encoded data removed]"
          },
          "metadata": {}
        },
        {
          "output_type": "stream",
          "name": "stdout",
          "text": [
            "1/1 [==============================] - 0s 21ms/step\n",
            ",\n"
          ]
        },
        {
          "output_type": "display_data",
          "data": {
            "text/plain": [
              "<PIL.Image.Image image mode=RGB size=19x27>"
            ],
            "image/png": "[encoded data removed]"
          },
          "metadata": {}
        },
        {
          "output_type": "stream",
          "name": "stdout",
          "text": [
            "1/1 [==============================] - 0s 19ms/step\n",
            "o\n"
          ]
        },
        {
          "output_type": "display_data",
          "data": {
            "text/plain": [
              "<PIL.Image.Image image mode=RGB size=34x27>"
            ],
            "image/png": "[encoded data removed]"
          },
          "metadata": {}
        },
        {
          "output_type": "stream",
          "name": "stdout",
          "text": [
            "1/1 [==============================] - 0s 18ms/step\n",
            "o\n"
          ]
        },
        {
          "output_type": "display_data",
          "data": {
            "text/plain": [
              "<PIL.Image.Image image mode=RGB size=34x27>"
            ],
            "image/png": "[encoded data removed]"
          },
          "metadata": {}
        },
        {
          "output_type": "stream",
          "name": "stdout",
          "text": [
            "1/1 [==============================] - 0s 20ms/step\n",
            "o\n"
          ]
        },
        {
          "output_type": "display_data",
          "data": {
            "text/plain": [
              "<PIL.Image.Image image mode=RGB size=32x27>"
            ],
            "image/png": "[encoded data removed]"
          },
          "metadata": {}
        },
        {
          "output_type": "stream",
          "name": "stdout",
          "text": [
            "1/1 [==============================] - 0s 18ms/step\n",
            "l\n"
          ]
        },
        {
          "output_type": "display_data",
          "data": {
            "text/plain": [
              "<PIL.Image.Image image mode=RGB size=6x18>"
            ],
            "image/png": "[encoded data removed]"
          },
          "metadata": {}
        },
        {
          "output_type": "stream",
          "name": "stdout",
          "text": [
            "1/1 [==============================] - 0s 19ms/step\n",
            "o\n"
          ]
        },
        {
          "output_type": "display_data",
          "data": {
            "text/plain": [
              "<PIL.Image.Image image mode=RGB size=45x26>"
            ],
            "image/png": "[encoded data removed]"
          },
          "metadata": {}
        },
        {
          "output_type": "stream",
          "name": "stdout",
          "text": [
            "1/1 [==============================] - 0s 18ms/step\n",
            "o\n"
          ]
        },
        {
          "output_type": "display_data",
          "data": {
            "text/plain": [
              "<PIL.Image.Image image mode=RGB size=34x26>"
            ],
            "image/png": "[encoded data removed]"
          },
          "metadata": {}
        },
        {
          "output_type": "stream",
          "name": "stdout",
          "text": [
            "1/1 [==============================] - 0s 18ms/step\n",
            "l\n"
          ]
        },
        {
          "output_type": "display_data",
          "data": {
            "text/plain": [
              "<PIL.Image.Image image mode=RGB size=27x30>"
            ],
            "image/png": "[encoded data removed]"
          },
          "metadata": {}
        },
        {
          "output_type": "stream",
          "name": "stdout",
          "text": [
            "1/1 [==============================] - 0s 25ms/step\n",
            ",\n"
          ]
        },
        {
          "output_type": "display_data",
          "data": {
            "text/plain": [
              "<PIL.Image.Image image mode=RGB size=11x27>"
            ],
            "image/png": "[encoded data removed]"
          },
          "metadata": {}
        },
        {
          "output_type": "stream",
          "name": "stdout",
          "text": [
            "1/1 [==============================] - 0s 23ms/step\n",
            "o\n"
          ]
        },
        {
          "output_type": "display_data",
          "data": {
            "text/plain": [
              "<PIL.Image.Image image mode=RGB size=11x28>"
            ],
            "image/png": "[encoded data removed]"
          },
          "metadata": {}
        },
        {
          "output_type": "stream",
          "name": "stdout",
          "text": [
            "1/1 [==============================] - 0s 22ms/step\n",
            "o\n"
          ]
        },
        {
          "output_type": "display_data",
          "data": {
            "text/plain": [
              "<PIL.Image.Image image mode=RGB size=14x30>"
            ],
            "image/png": "[encoded data removed]"
          },
          "metadata": {}
        },
        {
          "output_type": "stream",
          "name": "stdout",
          "text": [
            "1/1 [==============================] - 0s 45ms/step\n",
            "r\n"
          ]
        },
        {
          "output_type": "display_data",
          "data": {
            "text/plain": [
              "<PIL.Image.Image image mode=RGB size=6x29>"
            ],
            "image/png": "[encoded data removed]"
          },
          "metadata": {}
        },
        {
          "output_type": "stream",
          "name": "stdout",
          "text": [
            "1/1 [==============================] - 0s 21ms/step\n",
            "o\n"
          ]
        },
        {
          "output_type": "display_data",
          "data": {
            "text/plain": [
              "<PIL.Image.Image image mode=RGB size=32x39>"
            ],
            "image/png": "[encoded data removed]"
          },
          "metadata": {}
        },
        {
          "output_type": "stream",
          "name": "stdout",
          "text": [
            "1/1 [==============================] - 0s 21ms/step\n",
            ",\n"
          ]
        },
        {
          "output_type": "display_data",
          "data": {
            "text/plain": [
              "<PIL.Image.Image image mode=RGB size=7x39>"
            ],
            "image/png": "[encoded data removed]"
          },
          "metadata": {}
        },
        {
          "output_type": "stream",
          "name": "stdout",
          "text": [
            "1/1 [==============================] - 0s 17ms/step\n",
            "o\n"
          ]
        },
        {
          "output_type": "display_data",
          "data": {
            "text/plain": [
              "<PIL.Image.Image image mode=RGB size=63x39>"
            ],
            "image/png": "[encoded data removed]"
          },
          "metadata": {}
        },
        {
          "output_type": "stream",
          "name": "stdout",
          "text": [
            "1/1 [==============================] - 0s 17ms/step\n",
            "o\n"
          ]
        },
        {
          "output_type": "display_data",
          "data": {
            "text/plain": [
              "<PIL.Image.Image image mode=RGB size=7x39>"
            ],
            "image/png": "[encoded data removed]"
          },
          "metadata": {}
        },
        {
          "output_type": "stream",
          "name": "stdout",
          "text": [
            "1/1 [==============================] - 0s 17ms/step\n",
            "o\n"
          ]
        },
        {
          "output_type": "display_data",
          "data": {
            "text/plain": [
              "<PIL.Image.Image image mode=RGB size=7x39>"
            ],
            "image/png": "[encoded data removed]"
          },
          "metadata": {}
        },
        {
          "output_type": "stream",
          "name": "stdout",
          "text": [
            "1/1 [==============================] - 0s 19ms/step\n",
            "o\n"
          ]
        },
        {
          "output_type": "display_data",
          "data": {
            "text/plain": [
              "<PIL.Image.Image image mode=RGB size=39x39>"
            ],
            "image/png": "[encoded data removed]"
          },
          "metadata": {}
        },
        {
          "output_type": "stream",
          "name": "stdout",
          "text": [
            "1/1 [==============================] - 0s 19ms/step\n",
            "l\n"
          ]
        },
        {
          "output_type": "display_data",
          "data": {
            "text/plain": [
              "<PIL.Image.Image image mode=RGB size=5x6>"
            ],
            "image/png": "[encoded data removed]"
          },
          "metadata": {}
        },
        {
          "output_type": "stream",
          "name": "stdout",
          "text": [
            "1/1 [==============================] - 0s 20ms/step\n",
            "o\n"
          ]
        },
        {
          "output_type": "display_data",
          "data": {
            "text/plain": [
              "<PIL.Image.Image image mode=RGB size=11x4>"
            ],
            "image/png": "[encoded data removed]"
          },
          "metadata": {}
        },
        {
          "output_type": "stream",
          "name": "stdout",
          "text": [
            "1/1 [==============================] - 0s 24ms/step\n",
            "o\n"
          ]
        },
        {
          "output_type": "display_data",
          "data": {
            "text/plain": [
              "<PIL.Image.Image image mode=RGB size=10x3>"
            ],
            "image/png": "[encoded data removed]"
          },
          "metadata": {}
        },
        {
          "output_type": "stream",
          "name": "stdout",
          "text": [
            "1/1 [==============================] - 0s 23ms/step\n",
            "o\n"
          ]
        },
        {
          "output_type": "display_data",
          "data": {
            "text/plain": [
              "<PIL.Image.Image image mode=RGB size=6x6>"
            ],
            "image/png": "[encoded data removed]"
          },
          "metadata": {}
        },
        {
          "output_type": "stream",
          "name": "stdout",
          "text": [
            "1/1 [==============================] - 0s 19ms/step\n",
            "o\n"
          ]
        },
        {
          "output_type": "display_data",
          "data": {
            "text/plain": [
              "<PIL.Image.Image image mode=RGB size=1x2>"
            ],
            "image/png": "[encoded data removed]"
          },
          "metadata": {}
        },
        {
          "output_type": "stream",
          "name": "stdout",
          "text": [
            "1/1 [==============================] - 0s 23ms/step\n",
            "o\n"
          ]
        },
        {
          "output_type": "display_data",
          "data": {
            "text/plain": [
              "<PIL.Image.Image image mode=RGB size=1x1>"
            ],
            "image/png": "[encoded data removed]"
          },
          "metadata": {}
        },
        {
          "output_type": "stream",
          "name": "stdout",
          "text": [
            "1/1 [==============================] - 0s 18ms/step\n",
            "o\n"
          ]
        },
        {
          "output_type": "display_data",
          "data": {
            "text/plain": [
              "<PIL.Image.Image image mode=RGB size=8x8>"
            ],
            "image/png": "[encoded data removed]"
          },
          "metadata": {}
        },
        {
          "output_type": "stream",
          "name": "stdout",
          "text": [
            "1/1 [==============================] - 0s 17ms/step\n",
            "o\n"
          ]
        },
        {
          "output_type": "display_data",
          "data": {
            "text/plain": [
              "<PIL.Image.Image image mode=RGB size=8x8>"
            ],
            "image/png": "[encoded data removed]"
          },
          "metadata": {}
        },
        {
          "output_type": "stream",
          "name": "stdout",
          "text": [
            "1/1 [==============================] - 0s 18ms/step\n",
            "o\n"
          ]
        },
        {
          "output_type": "display_data",
          "data": {
            "text/plain": [
              "<PIL.Image.Image image mode=RGB size=5x4>"
            ],
            "image/png": "[encoded data removed]"
          },
          "metadata": {}
        },
        {
          "output_type": "stream",
          "name": "stdout",
          "text": [
            "1/1 [==============================] - 0s 18ms/step\n",
            "o\n"
          ]
        },
        {
          "output_type": "display_data",
          "data": {
            "text/plain": [
              "<PIL.Image.Image image mode=RGB size=4x5>"
            ],
            "image/png": "[encoded data removed]"
          },
          "metadata": {}
        },
        {
          "output_type": "stream",
          "name": "stdout",
          "text": [
            "1/1 [==============================] - 0s 18ms/step\n",
            "o\n"
          ]
        },
        {
          "output_type": "display_data",
          "data": {
            "text/plain": [
              "<PIL.Image.Image image mode=RGB size=1x1>"
            ],
            "image/png": "[encoded data removed]"
          },
          "metadata": {}
        },
        {
          "output_type": "stream",
          "name": "stdout",
          "text": [
            "1/1 [==============================] - 0s 19ms/step\n",
            "o\n"
          ]
        },
        {
          "output_type": "display_data",
          "data": {
            "text/plain": [
              "<PIL.Image.Image image mode=RGB size=1x1>"
            ],
            "image/png": "[encoded data removed]"
          },
          "metadata": {}
        },
        {
          "output_type": "stream",
          "name": "stdout",
          "text": [
            "1/1 [==============================] - 0s 17ms/step\n",
            "o\n"
          ]
        },
        {
          "output_type": "display_data",
          "data": {
            "text/plain": [
              "<PIL.Image.Image image mode=RGB size=13x13>"
            ],
            "image/png": "[encoded data removed]"
          },
          "metadata": {}
        },
        {
          "output_type": "stream",
          "name": "stdout",
          "text": [
            "1/1 [==============================] - 0s 22ms/step\n",
            "o\n"
          ]
        },
        {
          "output_type": "display_data",
          "data": {
            "text/plain": [
              "<PIL.Image.Image image mode=RGB size=1x1>"
            ],
            "image/png": "[encoded data removed]"
          },
          "metadata": {}
        },
        {
          "output_type": "stream",
          "name": "stdout",
          "text": [
            "1/1 [==============================] - 0s 19ms/step\n",
            "o\n"
          ]
        },
        {
          "output_type": "display_data",
          "data": {
            "text/plain": [
              "<PIL.Image.Image image mode=RGB size=5x14>"
            ],
            "image/png": "[encoded data removed]"
          },
          "metadata": {}
        },
        {
          "output_type": "stream",
          "name": "stdout",
          "text": [
            "1/1 [==============================] - 0s 22ms/step\n",
            "o\n"
          ]
        },
        {
          "output_type": "display_data",
          "data": {
            "text/plain": [
              "<PIL.Image.Image image mode=RGB size=13x13>"
            ],
            "image/png": "[encoded data removed]"
          },
          "metadata": {}
        },
        {
          "output_type": "stream",
          "name": "stdout",
          "text": [
            "1/1 [==============================] - 0s 22ms/step\n",
            "o\n"
          ]
        },
        {
          "output_type": "display_data",
          "data": {
            "text/plain": [
              "<PIL.Image.Image image mode=RGB size=20x22>"
            ],
            "image/png": "[encoded data removed]"
          },
          "metadata": {}
        },
        {
          "output_type": "stream",
          "name": "stdout",
          "text": [
            "1/1 [==============================] - 0s 18ms/step\n",
            "H\n"
          ]
        },
        {
          "output_type": "display_data",
          "data": {
            "text/plain": [
              "<PIL.Image.Image image mode=RGB size=4x4>"
            ],
            "image/png": "[encoded data removed]"
          },
          "metadata": {}
        },
        {
          "output_type": "stream",
          "name": "stdout",
          "text": [
            "1/1 [==============================] - 0s 19ms/step\n",
            "o\n"
          ]
        },
        {
          "output_type": "display_data",
          "data": {
            "text/plain": [
              "<PIL.Image.Image image mode=RGB size=1x1>"
            ],
            "image/png": "[encoded data removed]"
          },
          "metadata": {}
        },
        {
          "output_type": "stream",
          "name": "stdout",
          "text": [
            "1/1 [==============================] - 0s 20ms/step\n",
            "o\n"
          ]
        },
        {
          "output_type": "display_data",
          "data": {
            "text/plain": [
              "<PIL.Image.Image image mode=RGB size=1x4>"
            ],
            "image/png": "[encoded data removed]"
          },
          "metadata": {}
        },
        {
          "output_type": "stream",
          "name": "stdout",
          "text": [
            "1/1 [==============================] - 0s 18ms/step\n",
            "o\n"
          ]
        },
        {
          "output_type": "display_data",
          "data": {
            "text/plain": [
              "<PIL.Image.Image image mode=RGB size=37x27>"
            ],
            "image/png": "[encoded data removed]"
          },
          "metadata": {}
        },
        {
          "output_type": "stream",
          "name": "stdout",
          "text": [
            "1/1 [==============================] - 0s 18ms/step\n",
            "o\n"
          ]
        },
        {
          "output_type": "display_data",
          "data": {
            "text/plain": [
              "<PIL.Image.Image image mode=RGB size=39x32>"
            ],
            "image/png": "[encoded data removed]"
          },
          "metadata": {}
        },
        {
          "output_type": "stream",
          "name": "stdout",
          "text": [
            "1/1 [==============================] - 0s 17ms/step\n",
            "o\n"
          ]
        },
        {
          "output_type": "display_data",
          "data": {
            "text/plain": [
              "<PIL.Image.Image image mode=RGB size=20x28>"
            ],
            "image/png": "[encoded data removed]"
          },
          "metadata": {}
        },
        {
          "output_type": "stream",
          "name": "stdout",
          "text": [
            "1/1 [==============================] - 0s 18ms/step\n",
            "r\n"
          ]
        },
        {
          "output_type": "display_data",
          "data": {
            "text/plain": [
              "<PIL.Image.Image image mode=RGB size=19x28>"
            ],
            "image/png": "[encoded data removed]"
          },
          "metadata": {}
        },
        {
          "output_type": "stream",
          "name": "stdout",
          "text": [
            "1/1 [==============================] - 0s 18ms/step\n",
            "o\n"
          ]
        },
        {
          "output_type": "display_data",
          "data": {
            "text/plain": [
              "<PIL.Image.Image image mode=RGB size=40x33>"
            ],
            "image/png": "[encoded data removed]"
          },
          "metadata": {}
        },
        {
          "output_type": "stream",
          "name": "stdout",
          "text": [
            "1/1 [==============================] - 0s 17ms/step\n",
            "l\n"
          ]
        },
        {
          "output_type": "display_data",
          "data": {
            "text/plain": [
              "<PIL.Image.Image image mode=RGB size=3x3>"
            ],
            "image/png": "[encoded data removed]"
          },
          "metadata": {}
        },
        {
          "output_type": "stream",
          "name": "stdout",
          "text": [
            "1/1 [==============================] - 0s 18ms/step\n",
            "o\n"
          ]
        },
        {
          "output_type": "display_data",
          "data": {
            "text/plain": [
              "<PIL.Image.Image image mode=RGB size=2x2>"
            ],
            "image/png": "[encoded data removed]"
          },
          "metadata": {}
        },
        {
          "output_type": "stream",
          "name": "stdout",
          "text": [
            "1/1 [==============================] - 0s 23ms/step\n",
            "o\n"
          ]
        },
        {
          "output_type": "display_data",
          "data": {
            "text/plain": [
              "<PIL.Image.Image image mode=RGB size=25x34>"
            ],
            "image/png": "[encoded data removed]"
          },
          "metadata": {}
        },
        {
          "output_type": "stream",
          "name": "stdout",
          "text": [
            "1/1 [==============================] - 0s 24ms/step\n",
            "r\n"
          ]
        },
        {
          "output_type": "display_data",
          "data": {
            "text/plain": [
              "<PIL.Image.Image image mode=RGB size=7x17>"
            ],
            "image/png": "[encoded data removed]"
          },
          "metadata": {}
        },
        {
          "output_type": "stream",
          "name": "stdout",
          "text": [
            "1/1 [==============================] - 0s 23ms/step\n",
            "o\n"
          ]
        },
        {
          "output_type": "display_data",
          "data": {
            "text/plain": [
              "<PIL.Image.Image image mode=RGB size=35x24>"
            ],
            "image/png": "[encoded data removed]"
          },
          "metadata": {}
        },
        {
          "output_type": "stream",
          "name": "stdout",
          "text": [
            "1/1 [==============================] - 0s 19ms/step\n",
            "o\n"
          ]
        },
        {
          "output_type": "display_data",
          "data": {
            "text/plain": [
              "<PIL.Image.Image image mode=RGB size=26x24>"
            ],
            "image/png": "[encoded data removed]"
          },
          "metadata": {}
        },
        {
          "output_type": "stream",
          "name": "stdout",
          "text": [
            "1/1 [==============================] - 0s 18ms/step\n",
            "o\n"
          ]
        },
        {
          "output_type": "display_data",
          "data": {
            "text/plain": [
              "<PIL.Image.Image image mode=RGB size=32x24>"
            ],
            "image/png": "[encoded data removed]"
          },
          "metadata": {}
        },
        {
          "output_type": "stream",
          "name": "stdout",
          "text": [
            "1/1 [==============================] - 0s 26ms/step\n",
            "l\n"
          ]
        },
        {
          "output_type": "display_data",
          "data": {
            "text/plain": [
              "<PIL.Image.Image image mode=RGB size=33x24>"
            ],
            "image/png": "[encoded data removed]"
          },
          "metadata": {}
        },
        {
          "output_type": "stream",
          "name": "stdout",
          "text": [
            "1/1 [==============================] - 0s 17ms/step\n",
            "o\n"
          ]
        },
        {
          "output_type": "display_data",
          "data": {
            "text/plain": [
              "<PIL.Image.Image image mode=RGB size=30x32>"
            ],
            "image/png": "[encoded data removed]"
          },
          "metadata": {}
        },
        {
          "output_type": "stream",
          "name": "stdout",
          "text": [
            "1/1 [==============================] - 0s 18ms/step\n",
            "o\n"
          ]
        },
        {
          "output_type": "display_data",
          "data": {
            "text/plain": [
              "<PIL.Image.Image image mode=RGB size=24x29>"
            ],
            "image/png": "[encoded data removed]"
          },
          "metadata": {}
        },
        {
          "output_type": "stream",
          "name": "stdout",
          "text": [
            "1/1 [==============================] - 0s 19ms/step\n",
            "o\n"
          ]
        },
        {
          "output_type": "display_data",
          "data": {
            "text/plain": [
              "<PIL.Image.Image image mode=RGB size=34x24>"
            ],
            "image/png": "[encoded data removed]"
          },
          "metadata": {}
        },
        {
          "output_type": "stream",
          "name": "stdout",
          "text": [
            "1/1 [==============================] - 0s 19ms/step\n",
            "o\n"
          ]
        },
        {
          "output_type": "display_data",
          "data": {
            "text/plain": [
              "<PIL.Image.Image image mode=RGB size=26x24>"
            ],
            "image/png": "[encoded data removed]"
          },
          "metadata": {}
        },
        {
          "output_type": "stream",
          "name": "stdout",
          "text": [
            "1/1 [==============================] - 0s 18ms/step\n",
            "o\n"
          ]
        },
        {
          "output_type": "display_data",
          "data": {
            "text/plain": [
              "<PIL.Image.Image image mode=RGB size=26x24>"
            ],
            "image/png": "[encoded data removed]"
          },
          "metadata": {}
        },
        {
          "output_type": "stream",
          "name": "stdout",
          "text": [
            "1/1 [==============================] - 0s 17ms/step\n",
            "o\n"
          ]
        },
        {
          "output_type": "display_data",
          "data": {
            "text/plain": [
              "<PIL.Image.Image image mode=RGB size=39x24>"
            ],
            "image/png": "[encoded data removed]"
          },
          "metadata": {}
        },
        {
          "output_type": "stream",
          "name": "stdout",
          "text": [
            "1/1 [==============================] - 0s 18ms/step\n",
            "o\n"
          ]
        },
        {
          "output_type": "display_data",
          "data": {
            "text/plain": [
              "<PIL.Image.Image image mode=RGB size=30x24>"
            ],
            "image/png": "[encoded data removed]"
          },
          "metadata": {}
        },
        {
          "output_type": "stream",
          "name": "stdout",
          "text": [
            "1/1 [==============================] - 0s 24ms/step\n",
            "l\n"
          ]
        },
        {
          "output_type": "display_data",
          "data": {
            "text/plain": [
              "<PIL.Image.Image image mode=RGB size=17x22>"
            ],
            "image/png": "[encoded data removed]"
          },
          "metadata": {}
        },
        {
          "output_type": "stream",
          "name": "stdout",
          "text": [
            "1/1 [==============================] - 0s 27ms/step\n",
            "o\n"
          ]
        },
        {
          "output_type": "display_data",
          "data": {
            "text/plain": [
              "<PIL.Image.Image image mode=RGB size=3x5>"
            ],
            "image/png": "[encoded data removed]"
          },
          "metadata": {}
        },
        {
          "output_type": "stream",
          "name": "stdout",
          "text": [
            "1/1 [==============================] - 0s 19ms/step\n",
            "o\n"
          ]
        },
        {
          "output_type": "display_data",
          "data": {
            "text/plain": [
              "<PIL.Image.Image image mode=RGB size=49x37>"
            ],
            "image/png": "[encoded data removed]"
          },
          "metadata": {}
        },
        {
          "output_type": "stream",
          "name": "stdout",
          "text": [
            "1/1 [==============================] - 0s 18ms/step\n",
            "l\n"
          ]
        },
        {
          "output_type": "display_data",
          "data": {
            "text/plain": [
              "<PIL.Image.Image image mode=RGB size=12x17>"
            ],
            "image/png": "[encoded data removed]"
          },
          "metadata": {}
        },
        {
          "output_type": "stream",
          "name": "stdout",
          "text": [
            "1/1 [==============================] - 0s 19ms/step\n",
            "r\n"
          ]
        },
        {
          "output_type": "display_data",
          "data": {
            "text/plain": [
              "<PIL.Image.Image image mode=RGB size=14x11>"
            ],
            "image/png": "[encoded data removed]"
          },
          "metadata": {}
        },
        {
          "output_type": "stream",
          "name": "stdout",
          "text": [
            "1/1 [==============================] - 0s 19ms/step\n",
            "o\n"
          ]
        },
        {
          "output_type": "display_data",
          "data": {
            "text/plain": [
              "<PIL.Image.Image image mode=RGB size=14x21>"
            ],
            "image/png": "[encoded data removed]"
          },
          "metadata": {}
        },
        {
          "output_type": "stream",
          "name": "stdout",
          "text": [
            "1/1 [==============================] - 0s 19ms/step\n",
            "o\n"
          ]
        },
        {
          "output_type": "display_data",
          "data": {
            "text/plain": [
              "<PIL.Image.Image image mode=RGB size=50x32>"
            ],
            "image/png": "[encoded data removed]"
          },
          "metadata": {}
        },
        {
          "output_type": "stream",
          "name": "stdout",
          "text": [
            "1/1 [==============================] - 0s 19ms/step\n",
            "o\n"
          ]
        },
        {
          "output_type": "display_data",
          "data": {
            "text/plain": [
              "<PIL.Image.Image image mode=RGB size=40x32>"
            ],
            "image/png": "[encoded data removed]"
          },
          "metadata": {}
        },
        {
          "output_type": "stream",
          "name": "stdout",
          "text": [
            "1/1 [==============================] - 0s 18ms/step\n",
            "o\n"
          ]
        },
        {
          "output_type": "display_data",
          "data": {
            "text/plain": [
              "<PIL.Image.Image image mode=RGB size=48x32>"
            ],
            "image/png": "[encoded data removed]"
          },
          "metadata": {}
        },
        {
          "output_type": "stream",
          "name": "stdout",
          "text": [
            "1/1 [==============================] - 0s 18ms/step\n",
            "o\n"
          ]
        },
        {
          "output_type": "display_data",
          "data": {
            "text/plain": [
              "<PIL.Image.Image image mode=RGB size=50x32>"
            ],
            "image/png": "[encoded data removed]"
          },
          "metadata": {}
        },
        {
          "output_type": "stream",
          "name": "stdout",
          "text": [
            "1/1 [==============================] - 0s 17ms/step\n",
            "r\n"
          ]
        },
        {
          "output_type": "display_data",
          "data": {
            "text/plain": [
              "<PIL.Image.Image image mode=RGB size=50x32>"
            ],
            "image/png": "[encoded data removed]"
          },
          "metadata": {}
        },
        {
          "output_type": "stream",
          "name": "stdout",
          "text": [
            "1/1 [==============================] - 0s 18ms/step\n",
            "H\n"
          ]
        },
        {
          "output_type": "display_data",
          "data": {
            "text/plain": [
              "<PIL.Image.Image image mode=RGB size=40x32>"
            ],
            "image/png": "[encoded data removed]"
          },
          "metadata": {}
        },
        {
          "output_type": "stream",
          "name": "stdout",
          "text": [
            "1/1 [==============================] - 0s 21ms/step\n",
            "o\n"
          ]
        },
        {
          "output_type": "display_data",
          "data": {
            "text/plain": [
              "<PIL.Image.Image image mode=RGB size=40x32>"
            ],
            "image/png": "[encoded data removed]"
          },
          "metadata": {}
        },
        {
          "output_type": "stream",
          "name": "stdout",
          "text": [
            "1/1 [==============================] - 0s 27ms/step\n",
            "o\n"
          ]
        },
        {
          "output_type": "display_data",
          "data": {
            "text/plain": [
              "<PIL.Image.Image image mode=RGB size=43x32>"
            ],
            "image/png": "[encoded data removed]"
          },
          "metadata": {}
        },
        {
          "output_type": "stream",
          "name": "stdout",
          "text": [
            "1/1 [==============================] - 0s 19ms/step\n",
            "o\n"
          ]
        },
        {
          "output_type": "display_data",
          "data": {
            "text/plain": [
              "<PIL.Image.Image image mode=RGB size=14x23>"
            ],
            "image/png": "[encoded data removed]"
          },
          "metadata": {}
        },
        {
          "output_type": "stream",
          "name": "stdout",
          "text": [
            "1/1 [==============================] - 0s 18ms/step\n",
            "o\n"
          ]
        },
        {
          "output_type": "display_data",
          "data": {
            "text/plain": [
              "<PIL.Image.Image image mode=RGB size=77x39>"
            ],
            "image/png": "[encoded data removed]"
          },
          "metadata": {}
        },
        {
          "output_type": "stream",
          "name": "stdout",
          "text": [
            "1/1 [==============================] - 0s 17ms/step\n",
            "o\n"
          ]
        },
        {
          "output_type": "display_data",
          "data": {
            "text/plain": [
              "<PIL.Image.Image image mode=RGB size=56x39>"
            ],
            "image/png": "[encoded data removed]"
          },
          "metadata": {}
        },
        {
          "output_type": "stream",
          "name": "stdout",
          "text": [
            "1/1 [==============================] - 0s 27ms/step\n",
            "l\n"
          ]
        },
        {
          "output_type": "display_data",
          "data": {
            "text/plain": [
              "<PIL.Image.Image image mode=RGB size=5x5>"
            ],
            "image/png": "[encoded data removed]"
          },
          "metadata": {}
        },
        {
          "output_type": "stream",
          "name": "stdout",
          "text": [
            "1/1 [==============================] - 0s 17ms/step\n",
            "o\n"
          ]
        },
        {
          "output_type": "display_data",
          "data": {
            "text/plain": [
              "<PIL.Image.Image image mode=RGB size=10x14>"
            ],
            "image/png": "[encoded data removed]"
          },
          "metadata": {}
        },
        {
          "output_type": "stream",
          "name": "stdout",
          "text": [
            "1/1 [==============================] - 0s 17ms/step\n",
            "o\n"
          ]
        },
        {
          "output_type": "display_data",
          "data": {
            "text/plain": [
              "<PIL.Image.Image image mode=RGB size=3x3>"
            ],
            "image/png": "[encoded data removed]"
          },
          "metadata": {}
        },
        {
          "output_type": "stream",
          "name": "stdout",
          "text": [
            "1/1 [==============================] - 0s 18ms/step\n",
            "o\n"
          ]
        },
        {
          "output_type": "display_data",
          "data": {
            "text/plain": [
              "<PIL.Image.Image image mode=RGB size=6x9>"
            ],
            "image/png": "[encoded data removed]"
          },
          "metadata": {}
        },
        {
          "output_type": "stream",
          "name": "stdout",
          "text": [
            "1/1 [==============================] - 0s 17ms/step\n",
            "o\n"
          ]
        },
        {
          "output_type": "display_data",
          "data": {
            "text/plain": [
              "<PIL.Image.Image image mode=RGB size=11x15>"
            ],
            "image/png": "[encoded data removed]"
          },
          "metadata": {}
        },
        {
          "output_type": "stream",
          "name": "stdout",
          "text": [
            "1/1 [==============================] - 0s 18ms/step\n",
            "o\n"
          ]
        },
        {
          "output_type": "display_data",
          "data": {
            "text/plain": [
              "<PIL.Image.Image image mode=RGB size=16x15>"
            ],
            "image/png": "[encoded data removed]"
          },
          "metadata": {}
        },
        {
          "output_type": "stream",
          "name": "stdout",
          "text": [
            "1/1 [==============================] - 0s 17ms/step\n",
            "o\n"
          ]
        },
        {
          "output_type": "display_data",
          "data": {
            "text/plain": [
              "<PIL.Image.Image image mode=RGB size=16x15>"
            ],
            "image/png": "[encoded data removed]"
          },
          "metadata": {}
        },
        {
          "output_type": "stream",
          "name": "stdout",
          "text": [
            "1/1 [==============================] - 0s 22ms/step\n",
            "o\n"
          ]
        },
        {
          "output_type": "display_data",
          "data": {
            "text/plain": [
              "<PIL.Image.Image image mode=RGB size=14x15>"
            ],
            "image/png": "[encoded data removed]"
          },
          "metadata": {}
        },
        {
          "output_type": "stream",
          "name": "stdout",
          "text": [
            "1/1 [==============================] - 0s 24ms/step\n",
            "l\n"
          ]
        },
        {
          "output_type": "display_data",
          "data": {
            "text/plain": [
              "<PIL.Image.Image image mode=RGB size=15x20>"
            ],
            "image/png": "[encoded data removed]"
          },
          "metadata": {}
        },
        {
          "output_type": "stream",
          "name": "stdout",
          "text": [
            "1/1 [==============================] - 0s 24ms/step\n",
            "o\n"
          ]
        },
        {
          "output_type": "display_data",
          "data": {
            "text/plain": [
              "<PIL.Image.Image image mode=RGB size=21x21>"
            ],
            "image/png": "[encoded data removed]"
          },
          "metadata": {}
        },
        {
          "output_type": "stream",
          "name": "stdout",
          "text": [
            "1/1 [==============================] - 0s 19ms/step\n",
            "o\n"
          ]
        },
        {
          "output_type": "display_data",
          "data": {
            "text/plain": [
              "<PIL.Image.Image image mode=RGB size=20x21>"
            ],
            "image/png": "[encoded data removed]"
          },
          "metadata": {}
        },
        {
          "output_type": "stream",
          "name": "stdout",
          "text": [
            "1/1 [==============================] - 0s 17ms/step\n",
            "o\n"
          ]
        },
        {
          "output_type": "display_data",
          "data": {
            "text/plain": [
              "<PIL.Image.Image image mode=RGB size=18x21>"
            ],
            "image/png": "[encoded data removed]"
          },
          "metadata": {}
        },
        {
          "output_type": "stream",
          "name": "stdout",
          "text": [
            "1/1 [==============================] - 0s 18ms/step\n",
            "l\n"
          ]
        },
        {
          "output_type": "display_data",
          "data": {
            "text/plain": [
              "<PIL.Image.Image image mode=RGB size=3x15>"
            ],
            "image/png": "[encoded data removed]"
          },
          "metadata": {}
        },
        {
          "output_type": "stream",
          "name": "stdout",
          "text": [
            "1/1 [==============================] - 0s 27ms/step\n",
            "o\n"
          ]
        },
        {
          "output_type": "display_data",
          "data": {
            "text/plain": [
              "<PIL.Image.Image image mode=RGB size=31x20>"
            ],
            "image/png": "[encoded data removed]"
          },
          "metadata": {}
        },
        {
          "output_type": "stream",
          "name": "stdout",
          "text": [
            "1/1 [==============================] - 0s 17ms/step\n",
            "o\n"
          ]
        },
        {
          "output_type": "display_data",
          "data": {
            "text/plain": [
              "<PIL.Image.Image image mode=RGB size=25x20>"
            ],
            "image/png": "[encoded data removed]"
          },
          "metadata": {}
        },
        {
          "output_type": "stream",
          "name": "stdout",
          "text": [
            "1/1 [==============================] - 0s 17ms/step\n",
            "l\n"
          ]
        },
        {
          "output_type": "display_data",
          "data": {
            "text/plain": [
              "<PIL.Image.Image image mode=RGB size=20x23>"
            ],
            "image/png": "[encoded data removed]"
          },
          "metadata": {}
        },
        {
          "output_type": "stream",
          "name": "stdout",
          "text": [
            "1/1 [==============================] - 0s 17ms/step\n",
            ",\n"
          ]
        },
        {
          "output_type": "display_data",
          "data": {
            "text/plain": [
              "<PIL.Image.Image image mode=RGB size=8x21>"
            ],
            "image/png": "[encoded data removed]"
          },
          "metadata": {}
        },
        {
          "output_type": "stream",
          "name": "stdout",
          "text": [
            "1/1 [==============================] - 0s 26ms/step\n",
            "o\n"
          ]
        },
        {
          "output_type": "display_data",
          "data": {
            "text/plain": [
              "<PIL.Image.Image image mode=RGB size=7x21>"
            ],
            "image/png": "[encoded data removed]"
          },
          "metadata": {}
        },
        {
          "output_type": "stream",
          "name": "stdout",
          "text": [
            "1/1 [==============================] - 0s 28ms/step\n",
            "o\n"
          ]
        },
        {
          "output_type": "display_data",
          "data": {
            "text/plain": [
              "<PIL.Image.Image image mode=RGB size=8x21>"
            ],
            "image/png": "[encoded data removed]"
          },
          "metadata": {}
        },
        {
          "output_type": "stream",
          "name": "stdout",
          "text": [
            "1/1 [==============================] - 0s 32ms/step\n",
            "o\n"
          ]
        },
        {
          "output_type": "display_data",
          "data": {
            "text/plain": [
              "<PIL.Image.Image image mode=RGB size=5x21>"
            ],
            "image/png": "[encoded data removed]"
          },
          "metadata": {}
        },
        {
          "output_type": "stream",
          "name": "stdout",
          "text": [
            "1/1 [==============================] - 0s 42ms/step\n",
            "o\n"
          ]
        },
        {
          "output_type": "display_data",
          "data": {
            "text/plain": [
              "<PIL.Image.Image image mode=RGB size=42x31>"
            ],
            "image/png": "[encoded data removed]"
          },
          "metadata": {}
        },
        {
          "output_type": "stream",
          "name": "stdout",
          "text": [
            "1/1 [==============================] - 0s 33ms/step\n",
            "o\n"
          ]
        },
        {
          "output_type": "display_data",
          "data": {
            "text/plain": [
              "<PIL.Image.Image image mode=RGB size=33x30>"
            ],
            "image/png": "[encoded data removed]"
          },
          "metadata": {}
        },
        {
          "output_type": "stream",
          "name": "stdout",
          "text": [
            "1/1 [==============================] - 0s 27ms/step\n",
            "l\n"
          ]
        },
        {
          "output_type": "display_data",
          "data": {
            "text/plain": [
              "<PIL.Image.Image image mode=RGB size=26x34>"
            ],
            "image/png": "[encoded data removed]"
          },
          "metadata": {}
        },
        {
          "output_type": "stream",
          "name": "stdout",
          "text": [
            "1/1 [==============================] - 0s 27ms/step\n",
            ",\n"
          ]
        },
        {
          "output_type": "display_data",
          "data": {
            "text/plain": [
              "<PIL.Image.Image image mode=RGB size=10x31>"
            ],
            "image/png": "[encoded data removed]"
          },
          "metadata": {}
        },
        {
          "output_type": "stream",
          "name": "stdout",
          "text": [
            "1/1 [==============================] - 0s 33ms/step\n",
            "o\n"
          ]
        },
        {
          "output_type": "display_data",
          "data": {
            "text/plain": [
              "<PIL.Image.Image image mode=RGB size=10x31>"
            ],
            "image/png": "[encoded data removed]"
          },
          "metadata": {}
        },
        {
          "output_type": "stream",
          "name": "stdout",
          "text": [
            "1/1 [==============================] - 0s 28ms/step\n",
            "r\n"
          ]
        },
        {
          "output_type": "display_data",
          "data": {
            "text/plain": [
              "<PIL.Image.Image image mode=RGB size=10x31>"
            ],
            "image/png": "[encoded data removed]"
          },
          "metadata": {}
        },
        {
          "output_type": "stream",
          "name": "stdout",
          "text": [
            "1/1 [==============================] - 0s 34ms/step\n",
            "r\n"
          ]
        }
      ]
    },
    {
      "cell_type": "code",
      "source": [
        "bounded"
      ],
      "metadata": {
        "colab": {
          "base_uri": "https://localhost:8080/",
          "height": 358
        },
        "id": "tj2eC7jXSxHb",
        "outputId": "3a20ffed-c1dc-4652-c83a-b7b299f9661f"
      },
      "execution_count": null,
      "outputs": [
        {
          "output_type": "execute_result",
          "data": {
            "text/plain": [
              "array([[[255, 255, 255],\n",
              "        [255, 255, 255],\n",
              "        [255, 255, 255],\n",
              "        ...,\n",
              "        [255, 255, 255],\n",
              "        [255, 255, 255],\n",
              "        [255, 255, 255]],\n",
              "\n",
              "       [[255, 255, 255],\n",
              "        [255, 255, 255],\n",
              "        [255, 255, 255],\n",
              "        ...,\n",
              "        [255, 255, 255],\n",
              "        [255, 255, 255],\n",
              "        [255, 255, 255]],\n",
              "\n",
              "       [[255, 255, 255],\n",
              "        [255, 255, 255],\n",
              "        [255, 255, 255],\n",
              "        ...,\n",
              "        [255, 255, 255],\n",
              "        [255, 255, 255],\n",
              "        [255, 255, 255]],\n",
              "\n",
              "       ...,\n",
              "\n",
              "       [[255, 255, 255],\n",
              "        [255, 255, 255],\n",
              "        [255, 255, 255],\n",
              "        ...,\n",
              "        [255, 255, 255],\n",
              "        [255, 255, 255],\n",
              "        [255, 255, 255]],\n",
              "\n",
              "       [[255, 255, 255],\n",
              "        [255, 255, 255],\n",
              "        [255, 255, 255],\n",
              "        ...,\n",
              "        [255, 255, 255],\n",
              "        [255, 255, 255],\n",
              "        [255, 255, 255]],\n",
              "\n",
              "       [[255, 255, 255],\n",
              "        [255, 255, 255],\n",
              "        [255, 255, 255],\n",
              "        ...,\n",
              "        [255, 255, 255],\n",
              "        [255, 255, 255],\n",
              "        [255, 255, 255]]], dtype=uint8)"
            ],
            "text/html": [
              "<style>\n",
              "      .ndarray_repr .ndarray_raw_data {\n",
              "        display: none;\n",
              "      }\n",
              "      .ndarray_repr.show_array .ndarray_raw_data {\n",
              "        display: block;\n",
              "      }\n",
              "      .ndarray_repr.show_array .ndarray_image_preview {\n",
              "        display: none;\n",
              "      }\n",
              "      </style>\n",
              "      <div id=\"id-157c79a0-6fd0-48d4-84c6-7308792f05ec\" class=\"ndarray_repr\"><pre>ndarray (318, 774, 3) <button style=\"padding: 0 2px;\">show data</button></pre><img src=\"data:image/png;base64,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\" class=\"ndarray_image_preview\" /><pre class=\"ndarray_raw_data\">array([[[255, 255, 255],\n",
              "        [255, 255, 255],\n",
              "        [255, 255, 255],\n",
              "        ...,\n",
              "        [255, 255, 255],\n",
              "        [255, 255, 255],\n",
              "        [255, 255, 255]],\n",
              "\n",
              "       [[255, 255, 255],\n",
              "        [255, 255, 255],\n",
              "        [255, 255, 255],\n",
              "        ...,\n",
              "        [255, 255, 255],\n",
              "        [255, 255, 255],\n",
              "        [255, 255, 255]],\n",
              "\n",
              "       [[255, 255, 255],\n",
              "        [255, 255, 255],\n",
              "        [255, 255, 255],\n",
              "        ...,\n",
              "        [255, 255, 255],\n",
              "        [255, 255, 255],\n",
              "        [255, 255, 255]],\n",
              "\n",
              "       ...,\n",
              "\n",
              "       [[255, 255, 255],\n",
              "        [255, 255, 255],\n",
              "        [255, 255, 255],\n",
              "        ...,\n",
              "        [255, 255, 255],\n",
              "        [255, 255, 255],\n",
              "        [255, 255, 255]],\n",
              "\n",
              "       [[255, 255, 255],\n",
              "        [255, 255, 255],\n",
              "        [255, 255, 255],\n",
              "        ...,\n",
              "        [255, 255, 255],\n",
              "        [255, 255, 255],\n",
              "        [255, 255, 255]],\n",
              "\n",
              "       [[255, 255, 255],\n",
              "        [255, 255, 255],\n",
              "        [255, 255, 255],\n",
              "        ...,\n",
              "        [255, 255, 255],\n",
              "        [255, 255, 255],\n",
              "        [255, 255, 255]]], dtype=uint8)</pre></div><script>\n",
              "      (() => {\n",
              "      const titles = ['show data', 'hide data'];\n",
              "      let index = 0\n",
              "      document.querySelector('#id-157c79a0-6fd0-48d4-84c6-7308792f05ec button').onclick = (e) => {\n",
              "        document.querySelector('#id-157c79a0-6fd0-48d4-84c6-7308792f05ec').classList.toggle('show_array');\n",
              "        index = (++index) % 2;\n",
              "        document.querySelector('#id-157c79a0-6fd0-48d4-84c6-7308792f05ec button').textContent = titles[index];\n",
              "        e.preventDefault();\n",
              "        e.stopPropagation();\n",
              "      }\n",
              "      })();\n",
              "    </script>"
            ]
          },
          "metadata": {},
          "execution_count": 80
        }
      ]
    },
    {
      "cell_type": "code",
      "source": [
        "crp_corrdinate[0]"
      ],
      "metadata": {
        "colab": {
          "base_uri": "https://localhost:8080/",
          "height": 141
        },
        "id": "B2qKsC-PTpOH",
        "outputId": "6a87eb03-ae08-45ec-c210-8886039493a2"
      },
      "execution_count": null,
      "outputs": [
        {
          "output_type": "error",
          "ename": "IndexError",
          "evalue": "list index out of range",
          "traceback": [
            "\u001b[0;31m---------------------------------------------------------------------------\u001b[0m",
            "\u001b[0;31mIndexError\u001b[0m                                Traceback (most recent call last)",
            "\u001b[0;32m<ipython-input-81-36cabcc7e76e>\u001b[0m in \u001b[0;36m<cell line: 1>\u001b[0;34m()\u001b[0m\n\u001b[0;32m----> 1\u001b[0;31m \u001b[0mcropped_img\u001b[0m\u001b[0;34m[\u001b[0m\u001b[0;36m0\u001b[0m\u001b[0;34m]\u001b[0m\u001b[0;34m\u001b[0m\u001b[0;34m\u001b[0m\u001b[0m\n\u001b[0m",
            "\u001b[0;31mIndexError\u001b[0m: list index out of range"
          ]
        }
      ]
    },
    {
      "cell_type": "code",
      "source": [
        "def resize_image(image):\n",
        "    # Convert the image to grayscale\n",
        "    gray_image = cv2.cvtColor(image, cv2.COLOR_BGR2GRAY)\n",
        "    # Resize the image to (200, 28)\n",
        "    resized_image = cv2.resize(image, (200, 28))\n",
        "\n",
        "    # Add a channel dimension (since OpenCV reads images in BGR format)\n",
        "    resized_image = resized_image[..., np.newaxis]\n",
        "\n",
        "    # Convert to RGB format (since most deep learning models expect RGB)\n",
        "    resized_image = cv2.cvtColor(resized_image, cv2.COLOR_BGR2RGB)\n",
        "\n",
        "    # Add a batch dimension\n",
        "    resized_image = np.expand_dims(resized_image, axis=0)\n",
        "\n",
        "    # Return the resized image\n",
        "    return resized_image"
      ],
      "metadata": {
        "id": "vhYqbTyhYnSD"
      },
      "execution_count": null,
      "outputs": []
    },
    {
      "cell_type": "code",
      "source": [
        "img=cv2.imread(path)\n",
        "for box in crp_corrdinate:\n",
        "  x,y,h,w=box\n",
        "  print(\"Co-ordinates\",f\"{({x},{y}),({h},{w})}\")\n",
        "  image=img[y:h, x:w]\n",
        "  print(\"Image\",image)\n",
        "  prediction = model_2.predict(input_data)\n",
        "  print(\"Confidence\", prediction)\n",
        "  prediction=np.argmax(prediction)+1\n",
        "  print(\"Predicted\",map.get_string(prediction))"
      ],
      "metadata": {
        "id": "vOqUiTmoTwt9"
      },
      "execution_count": null,
      "outputs": []
    },
    {
      "cell_type": "code",
      "source": [],
      "metadata": {
        "id": "G2d8GtpbZ7dH"
      },
      "execution_count": null,
      "outputs": []
    }
  ]
}